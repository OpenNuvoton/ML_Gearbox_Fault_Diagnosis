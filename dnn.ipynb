{
 "cells": [
  {
   "cell_type": "code",
   "execution_count": 1,
   "id": "8ce308c7-3188-4b80-a466-7adf36db1350",
   "metadata": {},
   "outputs": [],
   "source": [
    "import numpy as np # linear algebra\n",
    "import pandas as pd # data processing, CSV file I/O (e.g. pd.read_csv)\n",
    "import math\n",
    "import os\n",
    "import matplotlib.pyplot as plt\n",
    "import seaborn as sns\n",
    "\n",
    "import tensorflow as tf\n",
    "from sklearn.metrics import accuracy_score, precision_score, recall_score\n",
    "\n",
    "from tensorflow.keras import layers, losses\n",
    "from tensorflow.keras.datasets import fashion_mnist\n",
    "from tensorflow.keras.models import Model\n"
   ]
  },
  {
   "cell_type": "markdown",
   "id": "e36fca62-5126-4b01-b5ae-5e9affb8be91",
   "metadata": {},
   "source": [
    "# Load the GearBox data"
   ]
  },
  {
   "cell_type": "code",
   "execution_count": 27,
   "id": "35c4308b-48d9-4048-a19d-5ca459a7ceb0",
   "metadata": {},
   "outputs": [],
   "source": [
    "import load_data\n",
    "\n",
    "pth1 = 'data/BrokenTooth'\n",
    "pth2 = 'data/Healthy'\n",
    "\n",
    "window_len = 300  # How many window_len as 1 feature point \n",
    "inference_data_point = 5 # This value should be considered the MCU rom size. 5*300*10*2 = 30000 float points\n",
    "\n",
    "broken_df_train, broken_df_test  = load_data.create_test_train_df_fromRaw(pth1 , 1, \n",
    "                                    inference_data_point, window_len, (load_data.addCol_load, load_data.addCol_fault))        \n",
    "healthy_df_train, healthy_df_test = load_data.create_test_train_df_fromRaw(pth2 , 0, \n",
    "                                    inference_data_point, window_len, (load_data.addCol_load, load_data.addCol_fault))\n",
    "\n",
    "#broken_df  = load_data.create_df_fromRaw(pth1 , 1, (load_data.addCol_load, load_data.addCol_fault))        \n",
    "#healthy_df = load_data.create_df_fromRaw(pth2 , 0, (load_data.addCol_load, load_data.addCol_fault))"
   ]
  },
  {
   "cell_type": "code",
   "execution_count": 28,
   "id": "e09664b6-5bdb-419c-905a-83eb7f96708d",
   "metadata": {},
   "outputs": [
    {
     "data": {
      "text/html": [
       "<div>\n",
       "<style scoped>\n",
       "    .dataframe tbody tr th:only-of-type {\n",
       "        vertical-align: middle;\n",
       "    }\n",
       "\n",
       "    .dataframe tbody tr th {\n",
       "        vertical-align: top;\n",
       "    }\n",
       "\n",
       "    .dataframe thead th {\n",
       "        text-align: right;\n",
       "    }\n",
       "</style>\n",
       "<table border=\"1\" class=\"dataframe\">\n",
       "  <thead>\n",
       "    <tr style=\"text-align: right;\">\n",
       "      <th></th>\n",
       "      <th>a1</th>\n",
       "      <th>a2</th>\n",
       "      <th>a3</th>\n",
       "      <th>a4</th>\n",
       "      <th>load</th>\n",
       "      <th>fault</th>\n",
       "    </tr>\n",
       "  </thead>\n",
       "  <tbody>\n",
       "    <tr>\n",
       "      <th>0</th>\n",
       "      <td>2.350390</td>\n",
       "      <td>1.454870</td>\n",
       "      <td>-1.667080</td>\n",
       "      <td>-2.055610</td>\n",
       "      <td>0.0</td>\n",
       "      <td>1.0</td>\n",
       "    </tr>\n",
       "    <tr>\n",
       "      <th>1</th>\n",
       "      <td>2.452970</td>\n",
       "      <td>1.400100</td>\n",
       "      <td>-2.825100</td>\n",
       "      <td>0.984487</td>\n",
       "      <td>0.0</td>\n",
       "      <td>1.0</td>\n",
       "    </tr>\n",
       "    <tr>\n",
       "      <th>2</th>\n",
       "      <td>-0.241284</td>\n",
       "      <td>-0.267390</td>\n",
       "      <td>0.793540</td>\n",
       "      <td>0.605862</td>\n",
       "      <td>0.0</td>\n",
       "      <td>1.0</td>\n",
       "    </tr>\n",
       "    <tr>\n",
       "      <th>3</th>\n",
       "      <td>1.130270</td>\n",
       "      <td>-0.890918</td>\n",
       "      <td>0.696969</td>\n",
       "      <td>0.613068</td>\n",
       "      <td>0.0</td>\n",
       "      <td>1.0</td>\n",
       "    </tr>\n",
       "    <tr>\n",
       "      <th>4</th>\n",
       "      <td>-1.296140</td>\n",
       "      <td>0.980479</td>\n",
       "      <td>-1.130560</td>\n",
       "      <td>-0.346971</td>\n",
       "      <td>0.0</td>\n",
       "      <td>1.0</td>\n",
       "    </tr>\n",
       "    <tr>\n",
       "      <th>...</th>\n",
       "      <td>...</td>\n",
       "      <td>...</td>\n",
       "      <td>...</td>\n",
       "      <td>...</td>\n",
       "      <td>...</td>\n",
       "      <td>...</td>\n",
       "    </tr>\n",
       "    <tr>\n",
       "      <th>14995</th>\n",
       "      <td>-3.443520</td>\n",
       "      <td>-0.361539</td>\n",
       "      <td>-0.376093</td>\n",
       "      <td>-2.447550</td>\n",
       "      <td>90.0</td>\n",
       "      <td>1.0</td>\n",
       "    </tr>\n",
       "    <tr>\n",
       "      <th>14996</th>\n",
       "      <td>2.458310</td>\n",
       "      <td>-2.838840</td>\n",
       "      <td>0.191190</td>\n",
       "      <td>-0.201169</td>\n",
       "      <td>90.0</td>\n",
       "      <td>1.0</td>\n",
       "    </tr>\n",
       "    <tr>\n",
       "      <th>14997</th>\n",
       "      <td>-0.755909</td>\n",
       "      <td>3.982960</td>\n",
       "      <td>-2.321580</td>\n",
       "      <td>0.749357</td>\n",
       "      <td>90.0</td>\n",
       "      <td>1.0</td>\n",
       "    </tr>\n",
       "    <tr>\n",
       "      <th>14998</th>\n",
       "      <td>1.299520</td>\n",
       "      <td>4.402300</td>\n",
       "      <td>-2.232460</td>\n",
       "      <td>0.535038</td>\n",
       "      <td>90.0</td>\n",
       "      <td>1.0</td>\n",
       "    </tr>\n",
       "    <tr>\n",
       "      <th>14999</th>\n",
       "      <td>1.179430</td>\n",
       "      <td>-4.292920</td>\n",
       "      <td>0.557745</td>\n",
       "      <td>2.700710</td>\n",
       "      <td>90.0</td>\n",
       "      <td>1.0</td>\n",
       "    </tr>\n",
       "  </tbody>\n",
       "</table>\n",
       "<p>15000 rows × 6 columns</p>\n",
       "</div>"
      ],
      "text/plain": [
       "             a1        a2        a3        a4  load  fault\n",
       "0      2.350390  1.454870 -1.667080 -2.055610   0.0    1.0\n",
       "1      2.452970  1.400100 -2.825100  0.984487   0.0    1.0\n",
       "2     -0.241284 -0.267390  0.793540  0.605862   0.0    1.0\n",
       "3      1.130270 -0.890918  0.696969  0.613068   0.0    1.0\n",
       "4     -1.296140  0.980479 -1.130560 -0.346971   0.0    1.0\n",
       "...         ...       ...       ...       ...   ...    ...\n",
       "14995 -3.443520 -0.361539 -0.376093 -2.447550  90.0    1.0\n",
       "14996  2.458310 -2.838840  0.191190 -0.201169  90.0    1.0\n",
       "14997 -0.755909  3.982960 -2.321580  0.749357  90.0    1.0\n",
       "14998  1.299520  4.402300 -2.232460  0.535038  90.0    1.0\n",
       "14999  1.179430 -4.292920  0.557745  2.700710  90.0    1.0\n",
       "\n",
       "[15000 rows x 6 columns]"
      ]
     },
     "execution_count": 28,
     "metadata": {},
     "output_type": "execute_result"
    }
   ],
   "source": [
    "broken_df_test\n",
    "#broken_df_train"
   ]
  },
  {
   "cell_type": "markdown",
   "id": "397d813d-a1c4-4ac6-b228-8fb808b6c275",
   "metadata": {},
   "source": [
    "# Feature Process"
   ]
  },
  {
   "cell_type": "code",
   "execution_count": 29,
   "id": "06dc29ef-f627-48c3-84d9-b94c762f5388",
   "metadata": {},
   "outputs": [
    {
     "name": "stdout",
     "output_type": "stream",
     "text": [
      "<class 'numpy.ndarray'> <class 'numpy.ndarray'>\n",
      "feature array shape of healthy point: (3336, 16), (3336,)\n",
      "feature array shape of broken point: (3301, 16), (3301,)\n"
     ]
    }
   ],
   "source": [
    "import feature_process\n",
    "\n",
    "# Calculate the windows size features, combine 300 data as 1 points. \n",
    "Data_healthy, Lable_healthy = feature_process.window_feature_autoencoder(healthy_df_train, 0, window_len, 4, 16)#200 =>0.87% #300 => 90%~92%(batch_size=256), #400 => 90%~92%(batch_size=128), #500 => 93%(batch_size=64)\n",
    "Data_broken, Lable_broken = feature_process.window_feature_autoencoder(broken_df_train, 1, window_len, 4, 16)\n",
    "print(type(Data_healthy), type(Lable_healthy))\n",
    "print(\"feature array shape of healthy point: {}, {}\".format(Data_healthy.shape, Lable_healthy.shape))\n",
    "print(\"feature array shape of broken point: {}, {}\".format(Data_broken.shape, Lable_broken.shape))"
   ]
  },
  {
   "cell_type": "code",
   "execution_count": 30,
   "id": "fe109066-c18d-44e3-adba-4e3f33f3481e",
   "metadata": {},
   "outputs": [
    {
     "name": "stdout",
     "output_type": "stream",
     "text": [
      "train data shape: (5973, 16), (5973,)\n",
      "test data shape: (664, 16), (664,)\n"
     ]
    }
   ],
   "source": [
    "# Create the random 80% train and 20% test\n",
    "train_data, test_data, train_labels, test_labels = feature_process.concatenate_data(Data_healthy,Data_broken,Lable_healthy,Lable_broken, 0.1, 21)\n",
    "print(\"train data shape: {}, {}\".format(train_data.shape, train_labels.shape))\n",
    "print(\"test data shape: {}, {}\".format(test_data.shape, test_labels.shape))\n",
    "# save the max&min val\n",
    "max_val = tf.reduce_max(train_data)\n",
    "min_val = tf.reduce_min(train_data)\n"
   ]
  },
  {
   "cell_type": "markdown",
   "id": "a7305dc7-9272-433f-ac8c-52d37601a3aa",
   "metadata": {
    "tags": []
   },
   "source": [
    "# DNN"
   ]
  },
  {
   "cell_type": "markdown",
   "id": "bc2611ce-bb31-40d4-a2e9-26853441fc28",
   "metadata": {},
   "source": [
    "## DNN training"
   ]
  },
  {
   "cell_type": "code",
   "execution_count": 31,
   "id": "da8941c9-6903-423d-a58d-06a0bde59c2f",
   "metadata": {},
   "outputs": [
    {
     "name": "stdout",
     "output_type": "stream",
     "text": [
      "Model: \"sequential_3\"\n",
      "_________________________________________________________________\n",
      "Layer (type)                 Output Shape              Param #   \n",
      "=================================================================\n",
      "dense_15 (Dense)             (None, 4)                 68        \n",
      "_________________________________________________________________\n",
      "dense_16 (Dense)             (None, 8)                 40        \n",
      "_________________________________________________________________\n",
      "dense_17 (Dense)             (None, 16)                144       \n",
      "_________________________________________________________________\n",
      "dense_18 (Dense)             (None, 8)                 136       \n",
      "_________________________________________________________________\n",
      "dense_19 (Dense)             (None, 2)                 18        \n",
      "=================================================================\n",
      "Total params: 406\n",
      "Trainable params: 406\n",
      "Non-trainable params: 0\n",
      "_________________________________________________________________\n"
     ]
    }
   ],
   "source": [
    "from tensorflow.python.keras.layers import Dense\n",
    "from tensorflow.python.keras.callbacks import EarlyStopping\n",
    "from tensorflow.python.keras.layers import Dropout\n",
    "from tensorflow.python.keras.models import Sequential\n",
    "\n",
    "early_stop = EarlyStopping(monitor='loss', patience=2)\n",
    "model = Sequential()\n",
    "\n",
    "model.add(Dense(4, activation='relu', input_shape=(16,),kernel_initializer='random_uniform'))\n",
    "model.add(Dense(8, activation='relu',kernel_initializer='random_uniform'))\n",
    "model.add(Dense(16, activation='relu',kernel_initializer='random_uniform'))\n",
    "model.add(Dense(8, activation='relu',kernel_initializer='random_uniform'))\n",
    "model.add(Dense(2, activation='softmax',kernel_initializer='random_uniform'))\n",
    "model_settings = {}\n",
    "\n",
    "model.compile(optimizer='adam', loss='sparse_categorical_crossentropy', metrics=['accuracy'])\n",
    "model.summary()"
   ]
  },
  {
   "cell_type": "code",
   "execution_count": 32,
   "id": "354899ee-1377-4667-92b9-f1a9d16013d7",
   "metadata": {},
   "outputs": [
    {
     "name": "stdout",
     "output_type": "stream",
     "text": [
      "Epoch 1/100\n",
      "150/150 [==============================] - 1s 2ms/step - loss: 0.5257 - accuracy: 0.7306 - val_loss: 0.2811 - val_accuracy: 0.9699\n",
      "Epoch 2/100\n",
      "150/150 [==============================] - 0s 1ms/step - loss: 0.1213 - accuracy: 0.9607 - val_loss: 0.0997 - val_accuracy: 0.9573\n",
      "Epoch 3/100\n",
      "150/150 [==============================] - 0s 1ms/step - loss: 0.0910 - accuracy: 0.9648 - val_loss: 0.1076 - val_accuracy: 0.9548\n",
      "Epoch 4/100\n",
      "150/150 [==============================] - 0s 2ms/step - loss: 0.0846 - accuracy: 0.9682 - val_loss: 0.0556 - val_accuracy: 0.9808\n",
      "Epoch 5/100\n",
      "150/150 [==============================] - 0s 1ms/step - loss: 0.0795 - accuracy: 0.9711 - val_loss: 0.0536 - val_accuracy: 0.9824\n",
      "Epoch 6/100\n",
      "150/150 [==============================] - 0s 1ms/step - loss: 0.0830 - accuracy: 0.9676 - val_loss: 0.0579 - val_accuracy: 0.9799\n",
      "Epoch 7/100\n",
      "150/150 [==============================] - 0s 2ms/step - loss: 0.0821 - accuracy: 0.9682 - val_loss: 0.0557 - val_accuracy: 0.9808\n",
      "Epoch 8/100\n",
      "150/150 [==============================] - 0s 2ms/step - loss: 0.0755 - accuracy: 0.9717 - val_loss: 0.0544 - val_accuracy: 0.9808\n",
      "Epoch 9/100\n",
      "150/150 [==============================] - 0s 1ms/step - loss: 0.0685 - accuracy: 0.9772 - val_loss: 0.0809 - val_accuracy: 0.9682\n",
      "Epoch 10/100\n",
      "150/150 [==============================] - 0s 1ms/step - loss: 0.0723 - accuracy: 0.9732 - val_loss: 0.0548 - val_accuracy: 0.9799\n",
      "Epoch 11/100\n",
      "150/150 [==============================] - 0s 1ms/step - loss: 0.0745 - accuracy: 0.9730 - val_loss: 0.0716 - val_accuracy: 0.9724\n",
      "Epoch 12/100\n",
      "150/150 [==============================] - 0s 1ms/step - loss: 0.0754 - accuracy: 0.9722 - val_loss: 0.0815 - val_accuracy: 0.9682\n",
      "Epoch 13/100\n",
      "150/150 [==============================] - 0s 1ms/step - loss: 0.0661 - accuracy: 0.9747 - val_loss: 0.0491 - val_accuracy: 0.9824\n",
      "Epoch 14/100\n",
      "150/150 [==============================] - 0s 1ms/step - loss: 0.0622 - accuracy: 0.9787 - val_loss: 0.0463 - val_accuracy: 0.9833\n",
      "Epoch 15/100\n",
      "150/150 [==============================] - 0s 1ms/step - loss: 0.0634 - accuracy: 0.9772 - val_loss: 0.0715 - val_accuracy: 0.9707\n",
      "Epoch 16/100\n",
      "150/150 [==============================] - 0s 1ms/step - loss: 0.0647 - accuracy: 0.9749 - val_loss: 0.0814 - val_accuracy: 0.9665\n",
      "Epoch 17/100\n",
      "150/150 [==============================] - 0s 1ms/step - loss: 0.0620 - accuracy: 0.9761 - val_loss: 0.0705 - val_accuracy: 0.9699\n",
      "Epoch 18/100\n",
      "150/150 [==============================] - 0s 1ms/step - loss: 0.0601 - accuracy: 0.9789 - val_loss: 0.0448 - val_accuracy: 0.9858\n",
      "Epoch 19/100\n",
      "150/150 [==============================] - 0s 1ms/step - loss: 0.0608 - accuracy: 0.9789 - val_loss: 0.0595 - val_accuracy: 0.9757\n",
      "Epoch 20/100\n",
      "150/150 [==============================] - 0s 1ms/step - loss: 0.0592 - accuracy: 0.9795 - val_loss: 0.0423 - val_accuracy: 0.9866\n",
      "Epoch 21/100\n",
      "150/150 [==============================] - 0s 1ms/step - loss: 0.0584 - accuracy: 0.9793 - val_loss: 0.0505 - val_accuracy: 0.9824\n",
      "Epoch 22/100\n",
      "150/150 [==============================] - 0s 1ms/step - loss: 0.0573 - accuracy: 0.9787 - val_loss: 0.0410 - val_accuracy: 0.9874\n",
      "Epoch 23/100\n",
      "150/150 [==============================] - 0s 1ms/step - loss: 0.0590 - accuracy: 0.9789 - val_loss: 0.0408 - val_accuracy: 0.9874\n",
      "Epoch 24/100\n",
      "150/150 [==============================] - 0s 1ms/step - loss: 0.0580 - accuracy: 0.9795 - val_loss: 0.0483 - val_accuracy: 0.9824\n",
      "Epoch 25/100\n",
      "150/150 [==============================] - 0s 1ms/step - loss: 0.0534 - accuracy: 0.9805 - val_loss: 0.0464 - val_accuracy: 0.9824\n",
      "Epoch 26/100\n",
      "150/150 [==============================] - 0s 1ms/step - loss: 0.0590 - accuracy: 0.9799 - val_loss: 0.0484 - val_accuracy: 0.9808\n",
      "Epoch 27/100\n",
      "150/150 [==============================] - 0s 1ms/step - loss: 0.0637 - accuracy: 0.9768 - val_loss: 0.0385 - val_accuracy: 0.9883\n",
      "Epoch 28/100\n",
      "150/150 [==============================] - 0s 1ms/step - loss: 0.0591 - accuracy: 0.9795 - val_loss: 0.0549 - val_accuracy: 0.9791\n",
      "Epoch 29/100\n",
      "150/150 [==============================] - 0s 1ms/step - loss: 0.0651 - accuracy: 0.9761 - val_loss: 0.0469 - val_accuracy: 0.9808\n",
      "Epoch 30/100\n",
      "150/150 [==============================] - 0s 1ms/step - loss: 0.0528 - accuracy: 0.9803 - val_loss: 0.0447 - val_accuracy: 0.9858\n",
      "Epoch 31/100\n",
      "150/150 [==============================] - 0s 1ms/step - loss: 0.0565 - accuracy: 0.9791 - val_loss: 0.0402 - val_accuracy: 0.9874\n",
      "Epoch 32/100\n",
      "150/150 [==============================] - 0s 1ms/step - loss: 0.0575 - accuracy: 0.9778 - val_loss: 0.0380 - val_accuracy: 0.9874\n",
      "Epoch 33/100\n",
      "150/150 [==============================] - 0s 2ms/step - loss: 0.0509 - accuracy: 0.9830 - val_loss: 0.0413 - val_accuracy: 0.9874\n",
      "Epoch 34/100\n",
      "150/150 [==============================] - 0s 1ms/step - loss: 0.0512 - accuracy: 0.9820 - val_loss: 0.0361 - val_accuracy: 0.9883\n",
      "Epoch 35/100\n",
      "150/150 [==============================] - 0s 1ms/step - loss: 0.0507 - accuracy: 0.9822 - val_loss: 0.0364 - val_accuracy: 0.9874\n",
      "Epoch 36/100\n",
      "150/150 [==============================] - 0s 1ms/step - loss: 0.0514 - accuracy: 0.9810 - val_loss: 0.0368 - val_accuracy: 0.9900\n",
      "Epoch 37/100\n",
      "150/150 [==============================] - 0s 1ms/step - loss: 0.0558 - accuracy: 0.9818 - val_loss: 0.0361 - val_accuracy: 0.9908\n",
      "Epoch 38/100\n",
      "150/150 [==============================] - 0s 1ms/step - loss: 0.0547 - accuracy: 0.9801 - val_loss: 0.0397 - val_accuracy: 0.9874\n",
      "Epoch 39/100\n",
      "150/150 [==============================] - 0s 1ms/step - loss: 0.0493 - accuracy: 0.9812 - val_loss: 0.0364 - val_accuracy: 0.9883\n",
      "Epoch 40/100\n",
      "150/150 [==============================] - 0s 1ms/step - loss: 0.0497 - accuracy: 0.9818 - val_loss: 0.0349 - val_accuracy: 0.9883\n",
      "Epoch 41/100\n",
      "150/150 [==============================] - 0s 1ms/step - loss: 0.0510 - accuracy: 0.9816 - val_loss: 0.0340 - val_accuracy: 0.9883\n",
      "Epoch 42/100\n",
      "150/150 [==============================] - 0s 1ms/step - loss: 0.0487 - accuracy: 0.9830 - val_loss: 0.0387 - val_accuracy: 0.9883\n",
      "Epoch 43/100\n",
      "150/150 [==============================] - 0s 1ms/step - loss: 0.0543 - accuracy: 0.9805 - val_loss: 0.0755 - val_accuracy: 0.9649\n",
      "Epoch 44/100\n",
      "150/150 [==============================] - 0s 1ms/step - loss: 0.0518 - accuracy: 0.9830 - val_loss: 0.0816 - val_accuracy: 0.9623\n",
      "Epoch 45/100\n",
      "150/150 [==============================] - 0s 1ms/step - loss: 0.0487 - accuracy: 0.9833 - val_loss: 0.0487 - val_accuracy: 0.9799\n",
      "Epoch 46/100\n",
      "150/150 [==============================] - 0s 1ms/step - loss: 0.0524 - accuracy: 0.9812 - val_loss: 0.0368 - val_accuracy: 0.9883\n",
      "Epoch 47/100\n",
      "150/150 [==============================] - 0s 1ms/step - loss: 0.0454 - accuracy: 0.9828 - val_loss: 0.0347 - val_accuracy: 0.9900\n",
      "Epoch 48/100\n",
      "150/150 [==============================] - 0s 1ms/step - loss: 0.0502 - accuracy: 0.9812 - val_loss: 0.0335 - val_accuracy: 0.9883\n",
      "Epoch 49/100\n",
      "150/150 [==============================] - 0s 1ms/step - loss: 0.0503 - accuracy: 0.9816 - val_loss: 0.0393 - val_accuracy: 0.9858\n",
      "Epoch 50/100\n",
      "150/150 [==============================] - 0s 1ms/step - loss: 0.0420 - accuracy: 0.9862 - val_loss: 0.0389 - val_accuracy: 0.9874\n",
      "Epoch 51/100\n",
      "150/150 [==============================] - 0s 1ms/step - loss: 0.0526 - accuracy: 0.9812 - val_loss: 0.0449 - val_accuracy: 0.9816\n",
      "Epoch 52/100\n",
      "150/150 [==============================] - 0s 1ms/step - loss: 0.0471 - accuracy: 0.9814 - val_loss: 0.0354 - val_accuracy: 0.9908\n",
      "Epoch 53/100\n",
      "150/150 [==============================] - 0s 1ms/step - loss: 0.0510 - accuracy: 0.9820 - val_loss: 0.0349 - val_accuracy: 0.9883\n",
      "Epoch 54/100\n",
      "150/150 [==============================] - 0s 1ms/step - loss: 0.0450 - accuracy: 0.9835 - val_loss: 0.0351 - val_accuracy: 0.9883\n",
      "Epoch 55/100\n",
      "150/150 [==============================] - 0s 1ms/step - loss: 0.0465 - accuracy: 0.9810 - val_loss: 0.0433 - val_accuracy: 0.9866\n",
      "Epoch 56/100\n",
      "150/150 [==============================] - 0s 1ms/step - loss: 0.0478 - accuracy: 0.9828 - val_loss: 0.0333 - val_accuracy: 0.9883\n",
      "Epoch 57/100\n",
      "150/150 [==============================] - 0s 1ms/step - loss: 0.0442 - accuracy: 0.9847 - val_loss: 0.0399 - val_accuracy: 0.9858\n",
      "Epoch 58/100\n",
      "150/150 [==============================] - 0s 1ms/step - loss: 0.0524 - accuracy: 0.9812 - val_loss: 0.0422 - val_accuracy: 0.9833\n",
      "Epoch 59/100\n",
      "150/150 [==============================] - 0s 1ms/step - loss: 0.0482 - accuracy: 0.9837 - val_loss: 0.0875 - val_accuracy: 0.9590\n",
      "Epoch 60/100\n",
      "150/150 [==============================] - 0s 2ms/step - loss: 0.0493 - accuracy: 0.9818 - val_loss: 0.0518 - val_accuracy: 0.9782\n",
      "Epoch 61/100\n",
      "150/150 [==============================] - 0s 1ms/step - loss: 0.0497 - accuracy: 0.9814 - val_loss: 0.0489 - val_accuracy: 0.9808\n",
      "Epoch 62/100\n",
      "150/150 [==============================] - 0s 1ms/step - loss: 0.0480 - accuracy: 0.9839 - val_loss: 0.0980 - val_accuracy: 0.9548\n",
      "Epoch 63/100\n",
      "150/150 [==============================] - 0s 1ms/step - loss: 0.0443 - accuracy: 0.9851 - val_loss: 0.0315 - val_accuracy: 0.9908\n",
      "Epoch 64/100\n",
      "150/150 [==============================] - 0s 1ms/step - loss: 0.0506 - accuracy: 0.9801 - val_loss: 0.0340 - val_accuracy: 0.9891\n",
      "Epoch 65/100\n",
      "150/150 [==============================] - 0s 1ms/step - loss: 0.0518 - accuracy: 0.9810 - val_loss: 0.0347 - val_accuracy: 0.9891\n",
      "Epoch 66/100\n",
      "150/150 [==============================] - 0s 1ms/step - loss: 0.0435 - accuracy: 0.9843 - val_loss: 0.0321 - val_accuracy: 0.9883\n",
      "Epoch 67/100\n",
      "150/150 [==============================] - 0s 1ms/step - loss: 0.0414 - accuracy: 0.9858 - val_loss: 0.0413 - val_accuracy: 0.9833\n",
      "Epoch 68/100\n",
      "150/150 [==============================] - 0s 1ms/step - loss: 0.0453 - accuracy: 0.9826 - val_loss: 0.0452 - val_accuracy: 0.9816\n",
      "Epoch 69/100\n",
      "150/150 [==============================] - 0s 2ms/step - loss: 0.0482 - accuracy: 0.9830 - val_loss: 0.0372 - val_accuracy: 0.9858\n",
      "Epoch 70/100\n",
      "150/150 [==============================] - 0s 1ms/step - loss: 0.0443 - accuracy: 0.9845 - val_loss: 0.0312 - val_accuracy: 0.9908\n",
      "Epoch 71/100\n",
      "150/150 [==============================] - 0s 1ms/step - loss: 0.0425 - accuracy: 0.9845 - val_loss: 0.0333 - val_accuracy: 0.9900\n",
      "Epoch 72/100\n",
      "150/150 [==============================] - 0s 1ms/step - loss: 0.0477 - accuracy: 0.9814 - val_loss: 0.0340 - val_accuracy: 0.9891\n",
      "Epoch 73/100\n",
      "150/150 [==============================] - 0s 1ms/step - loss: 0.0477 - accuracy: 0.9824 - val_loss: 0.0604 - val_accuracy: 0.9715\n",
      "Epoch 74/100\n",
      "150/150 [==============================] - 0s 1ms/step - loss: 0.0429 - accuracy: 0.9830 - val_loss: 0.0467 - val_accuracy: 0.9833\n",
      "Epoch 75/100\n",
      "150/150 [==============================] - 0s 1ms/step - loss: 0.0453 - accuracy: 0.9824 - val_loss: 0.0396 - val_accuracy: 0.9849\n",
      "Epoch 76/100\n",
      "150/150 [==============================] - 0s 1ms/step - loss: 0.0455 - accuracy: 0.9839 - val_loss: 0.0345 - val_accuracy: 0.9874\n",
      "Epoch 77/100\n",
      "150/150 [==============================] - 0s 1ms/step - loss: 0.0407 - accuracy: 0.9858 - val_loss: 0.0319 - val_accuracy: 0.9908\n",
      "Epoch 78/100\n",
      "150/150 [==============================] - 0s 1ms/step - loss: 0.0516 - accuracy: 0.9818 - val_loss: 0.0308 - val_accuracy: 0.9908\n",
      "Epoch 79/100\n",
      "150/150 [==============================] - 0s 1ms/step - loss: 0.0465 - accuracy: 0.9845 - val_loss: 0.0475 - val_accuracy: 0.9808\n",
      "Epoch 80/100\n",
      "150/150 [==============================] - 0s 1ms/step - loss: 0.0447 - accuracy: 0.9833 - val_loss: 0.0338 - val_accuracy: 0.9891\n",
      "Epoch 81/100\n",
      "150/150 [==============================] - 0s 1ms/step - loss: 0.0501 - accuracy: 0.9837 - val_loss: 0.0668 - val_accuracy: 0.9682\n",
      "Epoch 82/100\n",
      "150/150 [==============================] - 0s 1ms/step - loss: 0.0407 - accuracy: 0.9830 - val_loss: 0.0377 - val_accuracy: 0.9858\n",
      "Epoch 83/100\n",
      "150/150 [==============================] - 0s 1ms/step - loss: 0.0449 - accuracy: 0.9845 - val_loss: 0.0428 - val_accuracy: 0.9824\n",
      "Epoch 84/100\n",
      "150/150 [==============================] - 0s 1ms/step - loss: 0.0428 - accuracy: 0.9837 - val_loss: 0.0344 - val_accuracy: 0.9874\n",
      "Epoch 85/100\n",
      "150/150 [==============================] - 0s 1ms/step - loss: 0.0436 - accuracy: 0.9841 - val_loss: 0.0367 - val_accuracy: 0.9883\n",
      "Epoch 86/100\n",
      "150/150 [==============================] - 0s 2ms/step - loss: 0.0423 - accuracy: 0.9835 - val_loss: 0.0324 - val_accuracy: 0.9900\n",
      "Epoch 87/100\n",
      "150/150 [==============================] - 0s 1ms/step - loss: 0.0455 - accuracy: 0.9830 - val_loss: 0.0319 - val_accuracy: 0.9900\n",
      "Epoch 88/100\n",
      "150/150 [==============================] - 0s 1ms/step - loss: 0.0491 - accuracy: 0.9820 - val_loss: 0.0309 - val_accuracy: 0.9916\n",
      "Epoch 89/100\n",
      "150/150 [==============================] - 0s 1ms/step - loss: 0.0446 - accuracy: 0.9818 - val_loss: 0.0757 - val_accuracy: 0.9632\n",
      "Epoch 90/100\n",
      "150/150 [==============================] - 0s 1ms/step - loss: 0.0509 - accuracy: 0.9816 - val_loss: 0.0325 - val_accuracy: 0.9891\n",
      "Epoch 91/100\n",
      "150/150 [==============================] - 0s 1ms/step - loss: 0.0418 - accuracy: 0.9858 - val_loss: 0.0341 - val_accuracy: 0.9891\n",
      "Epoch 92/100\n",
      "150/150 [==============================] - 0s 1ms/step - loss: 0.0430 - accuracy: 0.9853 - val_loss: 0.0316 - val_accuracy: 0.9891\n",
      "Epoch 93/100\n",
      "150/150 [==============================] - 0s 1ms/step - loss: 0.0474 - accuracy: 0.9824 - val_loss: 0.0413 - val_accuracy: 0.9858\n",
      "Epoch 94/100\n",
      "150/150 [==============================] - 0s 1ms/step - loss: 0.0434 - accuracy: 0.9841 - val_loss: 0.0376 - val_accuracy: 0.9866\n",
      "Epoch 95/100\n",
      "150/150 [==============================] - 0s 1ms/step - loss: 0.0451 - accuracy: 0.9837 - val_loss: 0.0477 - val_accuracy: 0.9824\n",
      "Epoch 96/100\n",
      "150/150 [==============================] - 0s 1ms/step - loss: 0.0404 - accuracy: 0.9856 - val_loss: 0.0314 - val_accuracy: 0.9908\n",
      "Epoch 97/100\n",
      "150/150 [==============================] - 0s 1ms/step - loss: 0.0444 - accuracy: 0.9837 - val_loss: 0.0303 - val_accuracy: 0.9900\n",
      "Epoch 98/100\n",
      "150/150 [==============================] - 0s 1ms/step - loss: 0.0414 - accuracy: 0.9860 - val_loss: 0.0325 - val_accuracy: 0.9891\n",
      "Epoch 99/100\n",
      "150/150 [==============================] - 0s 1ms/step - loss: 0.0557 - accuracy: 0.9774 - val_loss: 0.0339 - val_accuracy: 0.9891\n",
      "Epoch 100/100\n",
      "150/150 [==============================] - 0s 1ms/step - loss: 0.0455 - accuracy: 0.9837 - val_loss: 0.0308 - val_accuracy: 0.9908\n"
     ]
    }
   ],
   "source": [
    "hist = model.fit(train_data , train_labels , epochs=100, batch_size=32, validation_split=0.2)\n",
    "#, batch_size=1024"
   ]
  },
  {
   "cell_type": "markdown",
   "id": "9f76f9c1-f5c6-4d6c-b847-3e50dd50922f",
   "metadata": {},
   "source": [
    "## Test Result"
   ]
  },
  {
   "cell_type": "code",
   "execution_count": 33,
   "id": "143c6194-8a9d-4946-b7b6-4127423b69d0",
   "metadata": {},
   "outputs": [
    {
     "data": {
      "image/png": "[encoded data removed]",
      "text/plain": [
       "<Figure size 640x480 with 2 Axes>"
      ]
     },
     "metadata": {},
     "output_type": "display_data"
    },
    {
     "name": "stdout",
     "output_type": "stream",
     "text": [
      "ROOT MEAN SQUARE ERROR = 0.10976425998969035\n",
      "Accuracy = 0.9879518072289156\n",
      "Precision = 0.9911242603550295\n",
      "Recall = 0.9852941176470589\n"
     ]
    }
   ],
   "source": [
    "Dnn_model = model  # pass the model in order to be used latter\n",
    "from sklearn.metrics import confusion_matrix, classification_report\n",
    "\n",
    "prediction = Dnn_model.predict(test_data,verbose = 0)\n",
    "#print(test_data[0:2])\n",
    "#print(prediction)\n",
    "y_pred = np.argmax(prediction,axis = -1)\n",
    "\n",
    "# Confusion matrix heatmap\n",
    "conf_matrix = confusion_matrix(test_labels, y_pred)\n",
    "ax = sns.heatmap(conf_matrix, annot=True, fmt=\"d\")\n",
    "# The top and bottom of heatmap gets trimmed off so to prevent that we set ylim\n",
    "bottom, top = ax.get_ylim()\n",
    "ax.set_ylim(bottom + 0.5, top - 0.5)\n",
    "plt.title(\"Confusion matrix\")\n",
    "plt.show()\n",
    "pred = y_pred.astype(int)\n",
    "\n",
    "# Calculating root mean square error\n",
    "rmse = np.sqrt(np.mean(((pred - test_labels) ** 2)))\n",
    "print(\"ROOT MEAN SQUARE ERROR = {}\".format(rmse))\n",
    "print(\"Accuracy = {}\".format(accuracy_score(test_labels,pred)))\n",
    "print(\"Precision = {}\".format(precision_score(test_labels,pred)))\n",
    "print(\"Recall = {}\".format(recall_score(test_labels,pred)))"
   ]
  },
  {
   "cell_type": "markdown",
   "id": "a3da97e5-1e97-401d-8403-80cb3ad6b57b",
   "metadata": {},
   "source": [
    "## Show MCU Inference Result first\n",
    "- This dataset is for MCU inference latter, and we use PC python to inference first.\n",
    "- The Accuracy value should be almost same as MCU result latter."
   ]
  },
  {
   "cell_type": "code",
   "execution_count": 34,
   "id": "47c19bf3-8b65-4047-baef-e02952ae3213",
   "metadata": {},
   "outputs": [
    {
     "name": "stdout",
     "output_type": "stream",
     "text": [
      "feature array shape of test healthy point: (50, 16), (50,)\n",
      "feature array shape of test broken point: (50, 16), (50,)\n"
     ]
    },
    {
     "data": {
      "image/png": "[encoded data removed]",
      "text/plain": [
       "<Figure size 640x480 with 2 Axes>"
      ]
     },
     "metadata": {},
     "output_type": "display_data"
    },
    {
     "name": "stdout",
     "output_type": "stream",
     "text": [
      "ROOT MEAN SQUARE ERROR = 0.1\n",
      "Accuracy = 0.99\n",
      "Precision = 0.9803921568627451\n",
      "Recall = 1.0\n"
     ]
    }
   ],
   "source": [
    "# accuracy for MCU inference data\n",
    "\n",
    "# calculate feature\n",
    "Data_healthy_test, Lable_healthy_test = feature_process.window_feature_autoencoder(healthy_df_test, 0, window_len, 4, 16)#200 =>0.87% #300 => 90%~92%(batch_size=256), #400 => 90%~92%(batch_size=128), #500 => 93%(batch_size=64)\n",
    "Data_broken_test, Lable_broken_test = feature_process.window_feature_autoencoder(broken_df_test, 1, window_len, 4, 16)\n",
    "print(\"feature array shape of test healthy point: {}, {}\".format(Data_healthy_test.shape, Lable_healthy_test.shape))\n",
    "print(\"feature array shape of test broken point: {}, {}\".format(Data_broken_test.shape, Lable_broken_test.shape))\n",
    "inference_data = np.concatenate([Data_healthy_test, Data_broken_test], axis =0)\n",
    "inference_label = np.concatenate([Lable_healthy_test, Lable_broken_test], axis =0)\n",
    "\n",
    "# Predict\n",
    "prediction = Dnn_model.predict(inference_data, verbose = 0)\n",
    "y_pred = np.argmax(prediction,axis = -1)\n",
    "\n",
    "# Confusion matrix heatmap\n",
    "conf_matrix = confusion_matrix(inference_label, y_pred)\n",
    "ax = sns.heatmap(conf_matrix, annot=True, fmt=\"d\")\n",
    "# The top and bottom of heatmap gets trimmed off so to prevent that we set ylim\n",
    "bottom, top = ax.get_ylim()\n",
    "ax.set_ylim(bottom + 0.5, top - 0.5)\n",
    "plt.title(\"Confusion matrix\")\n",
    "plt.show()\n",
    "pred = y_pred.astype(int)\n",
    "\n",
    "# Calculating root mean square error\n",
    "rmse = np.sqrt(np.mean(((pred - inference_label) ** 2)))\n",
    "print(\"ROOT MEAN SQUARE ERROR = {}\".format(rmse))\n",
    "print(\"Accuracy = {}\".format(accuracy_score(inference_label,pred)))\n",
    "print(\"Precision = {}\".format(precision_score(inference_label,pred)))\n",
    "print(\"Recall = {}\".format(recall_score(inference_label,pred)))"
   ]
  },
  {
   "cell_type": "markdown",
   "id": "cca61f16-53d9-42c6-8b80-ebabef2a29a3",
   "metadata": {},
   "source": [
    "# TensorFlow Lite Conversion"
   ]
  },
  {
   "cell_type": "code",
   "execution_count": 17,
   "id": "b04b1454-7715-408a-9161-bb100a03c873",
   "metadata": {},
   "outputs": [
    {
     "name": "stdout",
     "output_type": "stream",
     "text": [
      "INFO:tensorflow:Assets written to: dnn\\assets\n"
     ]
    }
   ],
   "source": [
    "# If we're happy with the performance, save the model\n",
    "ori_model = Dnn_model\n",
    "keras_model_name = 'dnn'\n",
    "\n",
    "tf.saved_model.save(ori_model, keras_model_name)"
   ]
  },
  {
   "cell_type": "code",
   "execution_count": 18,
   "id": "9db7e770-4dd7-4cae-8383-5422c04cd31c",
   "metadata": {},
   "outputs": [
    {
     "name": "stdout",
     "output_type": "stream",
     "text": [
      "INFO:tensorflow:Assets written to: C:\\Users\\CYCHEN38\\AppData\\Local\\Temp\\tmpqp2mdulg\\assets\n"
     ]
    },
    {
     "data": {
      "text/plain": [
       "4484"
      ]
     },
     "execution_count": 18,
     "metadata": {},
     "output_type": "execute_result"
    }
   ],
   "source": [
    "# Convert Keras model to a tflite model\n",
    "converter = tf.lite.TFLiteConverter.from_keras_model(ori_model)\n",
    "tflite_model = converter.convert()\n",
    "open(keras_model_name + '.tflite', 'wb').write(tflite_model)"
   ]
  },
  {
   "cell_type": "code",
   "execution_count": 19,
   "id": "3a8b9209-2c45-4b7d-abd7-748540fa7cb9",
   "metadata": {},
   "outputs": [],
   "source": [
    "def tflite_to_tflu(models_path, c_model_name, keras_model_name, threshold, maxV, minV):\n",
    "    \n",
    "    tflite_name = (keras_model_name + '.tflite')\n",
    "    my_f_name = (os.path.join(models_path, c_model_name) + '.cc')\n",
    "    ! python tflite_to_tflu_para.py --tflite_path $tflite_name --output_path $my_f_name --window_size_sample $window_len --max_val_train $maxV --min_val_train $minV --threshold_val $threshold\n",
    "\n",
    "models_path = 'model'\n",
    "c_model_name = r'Gearbox_fault_' + keras_model_name    \n",
    "tflite_to_tflu(models_path, c_model_name, keras_model_name, 0, max_val.numpy(), min_val.numpy())    "
   ]
  },
  {
   "cell_type": "code",
   "execution_count": null,
   "id": "33e03677-8fa6-438a-aa6a-1d2ab2f07a6f",
   "metadata": {},
   "outputs": [],
   "source": []
  }
 ],
 "metadata": {
  "kernelspec": {
   "display_name": "Python 3 (ipykernel)",
   "language": "python",
   "name": "python3"
  },
  "language_info": {
   "codemirror_mode": {
    "name": "ipython",
    "version": 3
   },
   "file_extension": ".py",
   "mimetype": "text/x-python",
   "name": "python",
   "nbconvert_exporter": "python",
   "pygments_lexer": "ipython3",
   "version": "3.10.4"
  },
  "toc-autonumbering": true
 },
 "nbformat": 4,
 "nbformat_minor": 5
}
