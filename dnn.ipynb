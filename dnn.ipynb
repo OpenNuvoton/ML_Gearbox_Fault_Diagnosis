{
 "cells": [
  {
   "cell_type": "code",
   "execution_count": 1,
   "id": "8ce308c7-3188-4b80-a466-7adf36db1350",
   "metadata": {},
   "outputs": [],
   "source": [
    "\"\"\"\n",
    "This script is used for training a deep neural network (DNN) for gearbox fault diagnosis using TensorFlow and Keras.\n",
    "It imports necessary libraries and modules for data processing, model building, training, and evaluation.\n",
    "\"\"\"\n",
    "import os\n",
    "\n",
    "import numpy as np  # linear algebra\n",
    "import matplotlib.pyplot as plt\n",
    "import seaborn as sns\n",
    "import tensorflow as tf\n",
    "from sklearn.metrics import accuracy_score, precision_score, recall_score, confusion_matrix\n",
    "from keras.optimizers import Adam\n",
    "from tensorflow.keras.layers import Dense\n",
    "from tensorflow.keras.callbacks import EarlyStopping\n",
    "from tensorflow.keras.models import Sequential\n",
    "import tensorflow_model_optimization as tfmot\n",
    "\n",
    "import load_data\n",
    "import feature_process"
   ]
  },
  {
   "cell_type": "markdown",
   "id": "e36fca62-5126-4b01-b5ae-5e9affb8be91",
   "metadata": {},
   "source": [
    "# Load the GearBox data"
   ]
  },
  {
   "cell_type": "code",
   "execution_count": 2,
   "id": "35c4308b-48d9-4048-a19d-5ca459a7ceb0",
   "metadata": {},
   "outputs": [],
   "source": [
    "PTH1 = \"data/BrokenTooth\"\n",
    "PTH2 = \"data/Healthy\"\n",
    "\n",
    "WIN_LEN = 300  # How many WIN_LEN as 1 feature point\n",
    "INFERENCE_DATA_POINT = 5  # This value should be considered the MCU rom size. 5*300*10*2 = 30000 float points\n",
    "\n",
    "broken_df_train, broken_df_test = load_data.create_test_train_df_from_raw(PTH1, 1, INFERENCE_DATA_POINT, WIN_LEN, (load_data.addcol_load, load_data.addcol_fault))\n",
    "healthy_df_train, healthy_df_test = load_data.create_test_train_df_from_raw(PTH2, 0, INFERENCE_DATA_POINT, WIN_LEN, (load_data.addcol_load, load_data.addcol_fault))"
   ]
  },
  {
   "cell_type": "code",
   "execution_count": 3,
   "id": "e09664b6-5bdb-419c-905a-83eb7f96708d",
   "metadata": {},
   "outputs": [
    {
     "data": {
      "text/html": [
       "<div>\n",
       "<style scoped>\n",
       "    .dataframe tbody tr th:only-of-type {\n",
       "        vertical-align: middle;\n",
       "    }\n",
       "\n",
       "    .dataframe tbody tr th {\n",
       "        vertical-align: top;\n",
       "    }\n",
       "\n",
       "    .dataframe thead th {\n",
       "        text-align: right;\n",
       "    }\n",
       "</style>\n",
       "<table border=\"1\" class=\"dataframe\">\n",
       "  <thead>\n",
       "    <tr style=\"text-align: right;\">\n",
       "      <th></th>\n",
       "      <th>a1</th>\n",
       "      <th>a2</th>\n",
       "      <th>a3</th>\n",
       "      <th>a4</th>\n",
       "      <th>load</th>\n",
       "      <th>fault</th>\n",
       "    </tr>\n",
       "  </thead>\n",
       "  <tbody>\n",
       "    <tr>\n",
       "      <th>0</th>\n",
       "      <td>2.350390</td>\n",
       "      <td>1.454870</td>\n",
       "      <td>-1.667080</td>\n",
       "      <td>-2.055610</td>\n",
       "      <td>0.0</td>\n",
       "      <td>1.0</td>\n",
       "    </tr>\n",
       "    <tr>\n",
       "      <th>1</th>\n",
       "      <td>2.452970</td>\n",
       "      <td>1.400100</td>\n",
       "      <td>-2.825100</td>\n",
       "      <td>0.984487</td>\n",
       "      <td>0.0</td>\n",
       "      <td>1.0</td>\n",
       "    </tr>\n",
       "    <tr>\n",
       "      <th>2</th>\n",
       "      <td>-0.241284</td>\n",
       "      <td>-0.267390</td>\n",
       "      <td>0.793540</td>\n",
       "      <td>0.605862</td>\n",
       "      <td>0.0</td>\n",
       "      <td>1.0</td>\n",
       "    </tr>\n",
       "    <tr>\n",
       "      <th>3</th>\n",
       "      <td>1.130270</td>\n",
       "      <td>-0.890918</td>\n",
       "      <td>0.696969</td>\n",
       "      <td>0.613068</td>\n",
       "      <td>0.0</td>\n",
       "      <td>1.0</td>\n",
       "    </tr>\n",
       "    <tr>\n",
       "      <th>4</th>\n",
       "      <td>-1.296140</td>\n",
       "      <td>0.980479</td>\n",
       "      <td>-1.130560</td>\n",
       "      <td>-0.346971</td>\n",
       "      <td>0.0</td>\n",
       "      <td>1.0</td>\n",
       "    </tr>\n",
       "    <tr>\n",
       "      <th>...</th>\n",
       "      <td>...</td>\n",
       "      <td>...</td>\n",
       "      <td>...</td>\n",
       "      <td>...</td>\n",
       "      <td>...</td>\n",
       "      <td>...</td>\n",
       "    </tr>\n",
       "    <tr>\n",
       "      <th>14995</th>\n",
       "      <td>-3.443520</td>\n",
       "      <td>-0.361539</td>\n",
       "      <td>-0.376093</td>\n",
       "      <td>-2.447550</td>\n",
       "      <td>90.0</td>\n",
       "      <td>1.0</td>\n",
       "    </tr>\n",
       "    <tr>\n",
       "      <th>14996</th>\n",
       "      <td>2.458310</td>\n",
       "      <td>-2.838840</td>\n",
       "      <td>0.191190</td>\n",
       "      <td>-0.201169</td>\n",
       "      <td>90.0</td>\n",
       "      <td>1.0</td>\n",
       "    </tr>\n",
       "    <tr>\n",
       "      <th>14997</th>\n",
       "      <td>-0.755909</td>\n",
       "      <td>3.982960</td>\n",
       "      <td>-2.321580</td>\n",
       "      <td>0.749357</td>\n",
       "      <td>90.0</td>\n",
       "      <td>1.0</td>\n",
       "    </tr>\n",
       "    <tr>\n",
       "      <th>14998</th>\n",
       "      <td>1.299520</td>\n",
       "      <td>4.402300</td>\n",
       "      <td>-2.232460</td>\n",
       "      <td>0.535038</td>\n",
       "      <td>90.0</td>\n",
       "      <td>1.0</td>\n",
       "    </tr>\n",
       "    <tr>\n",
       "      <th>14999</th>\n",
       "      <td>1.179430</td>\n",
       "      <td>-4.292920</td>\n",
       "      <td>0.557745</td>\n",
       "      <td>2.700710</td>\n",
       "      <td>90.0</td>\n",
       "      <td>1.0</td>\n",
       "    </tr>\n",
       "  </tbody>\n",
       "</table>\n",
       "<p>15000 rows × 6 columns</p>\n",
       "</div>"
      ],
      "text/plain": [
       "             a1        a2        a3        a4  load  fault\n",
       "0      2.350390  1.454870 -1.667080 -2.055610   0.0    1.0\n",
       "1      2.452970  1.400100 -2.825100  0.984487   0.0    1.0\n",
       "2     -0.241284 -0.267390  0.793540  0.605862   0.0    1.0\n",
       "3      1.130270 -0.890918  0.696969  0.613068   0.0    1.0\n",
       "4     -1.296140  0.980479 -1.130560 -0.346971   0.0    1.0\n",
       "...         ...       ...       ...       ...   ...    ...\n",
       "14995 -3.443520 -0.361539 -0.376093 -2.447550  90.0    1.0\n",
       "14996  2.458310 -2.838840  0.191190 -0.201169  90.0    1.0\n",
       "14997 -0.755909  3.982960 -2.321580  0.749357  90.0    1.0\n",
       "14998  1.299520  4.402300 -2.232460  0.535038  90.0    1.0\n",
       "14999  1.179430 -4.292920  0.557745  2.700710  90.0    1.0\n",
       "\n",
       "[15000 rows x 6 columns]"
      ]
     },
     "execution_count": 3,
     "metadata": {},
     "output_type": "execute_result"
    }
   ],
   "source": [
    "broken_df_test\n",
    "# broken_df_train"
   ]
  },
  {
   "cell_type": "markdown",
   "id": "397d813d-a1c4-4ac6-b228-8fb808b6c275",
   "metadata": {},
   "source": [
    "# Feature Process"
   ]
  },
  {
   "cell_type": "code",
   "execution_count": 4,
   "id": "06dc29ef-f627-48c3-84d9-b94c762f5388",
   "metadata": {},
   "outputs": [
    {
     "name": "stdout",
     "output_type": "stream",
     "text": [
      "<class 'numpy.ndarray'> <class 'numpy.ndarray'>\n",
      "feature array shape of healthy point: (3336, 16), (3336,)\n",
      "feature array shape of broken point: (3301, 16), (3301,)\n"
     ]
    }
   ],
   "source": [
    "# Calculate the windows size features, combine 300 data as 1 points.\n",
    "Data_healthy, Lable_healthy = feature_process.window_feature_autoencoder(healthy_df_train, 0, WIN_LEN, 4, 16)\n",
    "# 200 =>0.87% #300 => 90%~92%(batch_size=256), #400 => 90%~92%(batch_size=128), #500 => 93%(batch_size=64)\n",
    "Data_broken, Lable_broken = feature_process.window_feature_autoencoder(broken_df_train, 1, WIN_LEN, 4, 16)\n",
    "print(type(Data_healthy), type(Lable_healthy))\n",
    "print(f\"feature array shape of healthy point: {Data_healthy.shape}, {Lable_healthy.shape}\")\n",
    "print(f\"feature array shape of broken point: {Data_broken.shape}, {Lable_broken.shape}\")"
   ]
  },
  {
   "cell_type": "code",
   "execution_count": 5,
   "id": "fe109066-c18d-44e3-adba-4e3f33f3481e",
   "metadata": {},
   "outputs": [
    {
     "name": "stdout",
     "output_type": "stream",
     "text": [
      "train data shape: (5973, 16), (5973,)\n",
      "test data shape: (664, 16), (664,)\n"
     ]
    }
   ],
   "source": [
    "# Create the random 80% train and 20% test\n",
    "train_data, test_data, train_labels, test_labels = feature_process.concatenate_data(Data_healthy, Data_broken, Lable_healthy, Lable_broken, 0.1, 21)\n",
    "print(f\"train data shape: {train_data.shape}, {train_labels.shape}\")\n",
    "print(f\"test data shape: {test_data.shape}, {test_labels.shape}\")\n",
    "# save the max&min val\n",
    "max_val = tf.reduce_max(train_data)\n",
    "min_val = tf.reduce_min(train_data)"
   ]
  },
  {
   "cell_type": "markdown",
   "id": "a7305dc7-9272-433f-ac8c-52d37601a3aa",
   "metadata": {
    "tags": []
   },
   "source": [
    "# DNN"
   ]
  },
  {
   "cell_type": "markdown",
   "id": "bc2611ce-bb31-40d4-a2e9-26853441fc28",
   "metadata": {},
   "source": [
    "## DNN training"
   ]
  },
  {
   "cell_type": "code",
   "execution_count": 26,
   "id": "da8941c9-6903-423d-a58d-06a0bde59c2f",
   "metadata": {},
   "outputs": [
    {
     "name": "stdout",
     "output_type": "stream",
     "text": [
      "Model: \"sequential_2\"\n",
      "_________________________________________________________________\n",
      " Layer (type)                Output Shape              Param #   \n",
      "=================================================================\n",
      " dense_10 (Dense)            (None, 4)                 68        \n",
      "                                                                 \n",
      " activation_8 (Activation)   (None, 4)                 0         \n",
      "                                                                 \n",
      " dense_11 (Dense)            (None, 8)                 40        \n",
      "                                                                 \n",
      " activation_9 (Activation)   (None, 8)                 0         \n",
      "                                                                 \n",
      " dense_12 (Dense)            (None, 16)                144       \n",
      "                                                                 \n",
      " activation_10 (Activation)  (None, 16)                0         \n",
      "                                                                 \n",
      " dense_13 (Dense)            (None, 8)                 136       \n",
      "                                                                 \n",
      " activation_11 (Activation)  (None, 8)                 0         \n",
      "                                                                 \n",
      " dense_14 (Dense)            (None, 2)                 18        \n",
      "                                                                 \n",
      "=================================================================\n",
      "Total params: 406\n",
      "Trainable params: 406\n",
      "Non-trainable params: 0\n",
      "_________________________________________________________________\n"
     ]
    }
   ],
   "source": [
    "early_stop = EarlyStopping(monitor=\"loss\", patience=2)\n",
    "model = Sequential()\n",
    "\n",
    "model.add(Dense(4, input_shape=(16,), kernel_initializer=\"random_uniform\"))\n",
    "# model.add(tf.keras.layers.BatchNormalization())\n",
    "model.add(tf.keras.layers.Activation(\"relu\"))\n",
    "\n",
    "model.add(Dense(8, kernel_initializer=\"random_uniform\"))\n",
    "# model.add(tf.keras.layers.BatchNormalization())\n",
    "model.add(tf.keras.layers.Activation(\"relu\"))\n",
    "\n",
    "model.add(Dense(16, kernel_initializer=\"random_uniform\"))\n",
    "# model.add(tf.keras.layers.BatchNormalization())\n",
    "model.add(tf.keras.layers.Activation(\"relu\"))\n",
    "\n",
    "model.add(Dense(8, kernel_initializer=\"random_uniform\"))\n",
    "# model.add(tf.keras.layers.BatchNormalization())\n",
    "model.add(tf.keras.layers.Activation(\"relu\"))\n",
    "\n",
    "model.add(Dense(2, activation=\"softmax\", kernel_initializer=\"random_uniform\"))\n",
    "model_settings = {}\n",
    "\n",
    "optimizer = Adam(learning_rate=0.0001)\n",
    "model.compile(optimizer=optimizer, loss=\"sparse_categorical_crossentropy\", metrics=[\"accuracy\"])\n",
    "model.summary()"
   ]
  },
  {
   "cell_type": "code",
   "execution_count": 27,
   "id": "354899ee-1377-4667-92b9-f1a9d16013d7",
   "metadata": {},
   "outputs": [
    {
     "name": "stdout",
     "output_type": "stream",
     "text": [
      "Epoch 1/100\n",
      "150/150 [==============================] - 1s 2ms/step - loss: 0.6926 - accuracy: 0.7497 - val_loss: 0.6910 - val_accuracy: 0.6418\n",
      "Epoch 2/100\n",
      "150/150 [==============================] - 0s 1ms/step - loss: 0.6767 - accuracy: 0.7373 - val_loss: 0.6457 - val_accuracy: 0.7464\n",
      "Epoch 3/100\n",
      "150/150 [==============================] - 0s 1ms/step - loss: 0.5483 - accuracy: 0.8497 - val_loss: 0.4313 - val_accuracy: 0.9046\n",
      "Epoch 4/100\n",
      "150/150 [==============================] - 0s 1ms/step - loss: 0.3068 - accuracy: 0.9498 - val_loss: 0.2120 - val_accuracy: 0.9623\n",
      "Epoch 5/100\n",
      "150/150 [==============================] - 0s 2ms/step - loss: 0.1643 - accuracy: 0.9653 - val_loss: 0.1228 - val_accuracy: 0.9732\n",
      "Epoch 6/100\n",
      "150/150 [==============================] - 0s 2ms/step - loss: 0.1176 - accuracy: 0.9661 - val_loss: 0.1035 - val_accuracy: 0.9665\n",
      "Epoch 7/100\n",
      "150/150 [==============================] - 0s 2ms/step - loss: 0.1010 - accuracy: 0.9671 - val_loss: 0.0808 - val_accuracy: 0.9808\n",
      "Epoch 8/100\n",
      "150/150 [==============================] - 0s 2ms/step - loss: 0.0929 - accuracy: 0.9669 - val_loss: 0.0742 - val_accuracy: 0.9799\n",
      "Epoch 9/100\n",
      "150/150 [==============================] - 0s 1ms/step - loss: 0.0892 - accuracy: 0.9674 - val_loss: 0.0718 - val_accuracy: 0.9766\n",
      "Epoch 10/100\n",
      "150/150 [==============================] - 0s 1ms/step - loss: 0.0854 - accuracy: 0.9701 - val_loss: 0.0703 - val_accuracy: 0.9757\n",
      "Epoch 11/100\n",
      "150/150 [==============================] - 0s 1ms/step - loss: 0.0842 - accuracy: 0.9671 - val_loss: 0.0660 - val_accuracy: 0.9791\n",
      "Epoch 12/100\n",
      "150/150 [==============================] - 0s 1ms/step - loss: 0.0828 - accuracy: 0.9697 - val_loss: 0.0759 - val_accuracy: 0.9690\n",
      "Epoch 13/100\n",
      "150/150 [==============================] - 0s 2ms/step - loss: 0.0818 - accuracy: 0.9684 - val_loss: 0.0644 - val_accuracy: 0.9782\n",
      "Epoch 14/100\n",
      "150/150 [==============================] - 0s 1ms/step - loss: 0.0797 - accuracy: 0.9692 - val_loss: 0.0633 - val_accuracy: 0.9791\n",
      "Epoch 15/100\n",
      "150/150 [==============================] - 0s 1ms/step - loss: 0.0801 - accuracy: 0.9678 - val_loss: 0.0695 - val_accuracy: 0.9732\n",
      "Epoch 16/100\n",
      "150/150 [==============================] - 0s 1ms/step - loss: 0.0795 - accuracy: 0.9699 - val_loss: 0.0619 - val_accuracy: 0.9816\n",
      "Epoch 17/100\n",
      "150/150 [==============================] - 0s 1ms/step - loss: 0.0785 - accuracy: 0.9705 - val_loss: 0.0603 - val_accuracy: 0.9799\n",
      "Epoch 18/100\n",
      "150/150 [==============================] - 0s 1ms/step - loss: 0.0778 - accuracy: 0.9692 - val_loss: 0.0601 - val_accuracy: 0.9816\n",
      "Epoch 19/100\n",
      "150/150 [==============================] - 0s 1ms/step - loss: 0.0771 - accuracy: 0.9688 - val_loss: 0.0592 - val_accuracy: 0.9799\n",
      "Epoch 20/100\n",
      "150/150 [==============================] - 0s 1ms/step - loss: 0.0766 - accuracy: 0.9703 - val_loss: 0.0670 - val_accuracy: 0.9732\n",
      "Epoch 21/100\n",
      "150/150 [==============================] - 0s 1ms/step - loss: 0.0770 - accuracy: 0.9713 - val_loss: 0.0583 - val_accuracy: 0.9808\n",
      "Epoch 22/100\n",
      "150/150 [==============================] - 0s 1ms/step - loss: 0.0755 - accuracy: 0.9703 - val_loss: 0.0702 - val_accuracy: 0.9724\n",
      "Epoch 23/100\n",
      "150/150 [==============================] - 0s 1ms/step - loss: 0.0761 - accuracy: 0.9692 - val_loss: 0.0581 - val_accuracy: 0.9824\n",
      "Epoch 24/100\n",
      "150/150 [==============================] - 0s 1ms/step - loss: 0.0758 - accuracy: 0.9711 - val_loss: 0.0782 - val_accuracy: 0.9674\n",
      "Epoch 25/100\n",
      "150/150 [==============================] - 0s 1ms/step - loss: 0.0744 - accuracy: 0.9711 - val_loss: 0.0627 - val_accuracy: 0.9791\n",
      "Epoch 26/100\n",
      "150/150 [==============================] - 0s 1ms/step - loss: 0.0738 - accuracy: 0.9734 - val_loss: 0.0566 - val_accuracy: 0.9808\n",
      "Epoch 27/100\n",
      "150/150 [==============================] - 0s 2ms/step - loss: 0.0740 - accuracy: 0.9722 - val_loss: 0.0582 - val_accuracy: 0.9816\n",
      "Epoch 28/100\n",
      "150/150 [==============================] - 0s 1ms/step - loss: 0.0731 - accuracy: 0.9726 - val_loss: 0.0574 - val_accuracy: 0.9808\n",
      "Epoch 29/100\n",
      "150/150 [==============================] - 0s 1ms/step - loss: 0.0728 - accuracy: 0.9726 - val_loss: 0.0589 - val_accuracy: 0.9799\n",
      "Epoch 30/100\n",
      "150/150 [==============================] - 0s 1ms/step - loss: 0.0718 - accuracy: 0.9728 - val_loss: 0.0561 - val_accuracy: 0.9808\n",
      "Epoch 31/100\n",
      "150/150 [==============================] - 0s 1ms/step - loss: 0.0727 - accuracy: 0.9715 - val_loss: 0.0580 - val_accuracy: 0.9816\n",
      "Epoch 32/100\n",
      "150/150 [==============================] - 0s 1ms/step - loss: 0.0723 - accuracy: 0.9709 - val_loss: 0.0562 - val_accuracy: 0.9808\n",
      "Epoch 33/100\n",
      "150/150 [==============================] - 0s 1ms/step - loss: 0.0716 - accuracy: 0.9734 - val_loss: 0.0564 - val_accuracy: 0.9799\n",
      "Epoch 34/100\n",
      "150/150 [==============================] - 0s 1ms/step - loss: 0.0719 - accuracy: 0.9734 - val_loss: 0.0546 - val_accuracy: 0.9816\n",
      "Epoch 35/100\n",
      "150/150 [==============================] - 0s 1ms/step - loss: 0.0697 - accuracy: 0.9732 - val_loss: 0.0543 - val_accuracy: 0.9824\n",
      "Epoch 36/100\n",
      "150/150 [==============================] - 0s 1ms/step - loss: 0.0700 - accuracy: 0.9736 - val_loss: 0.0544 - val_accuracy: 0.9833\n",
      "Epoch 37/100\n",
      "150/150 [==============================] - 0s 1ms/step - loss: 0.0704 - accuracy: 0.9734 - val_loss: 0.0613 - val_accuracy: 0.9774\n",
      "Epoch 38/100\n",
      "150/150 [==============================] - 0s 1ms/step - loss: 0.0702 - accuracy: 0.9732 - val_loss: 0.0546 - val_accuracy: 0.9808\n",
      "Epoch 39/100\n",
      "150/150 [==============================] - 0s 1ms/step - loss: 0.0712 - accuracy: 0.9736 - val_loss: 0.0640 - val_accuracy: 0.9774\n",
      "Epoch 40/100\n",
      "150/150 [==============================] - 0s 1ms/step - loss: 0.0698 - accuracy: 0.9732 - val_loss: 0.0567 - val_accuracy: 0.9799\n",
      "Epoch 41/100\n",
      "150/150 [==============================] - 0s 1ms/step - loss: 0.0694 - accuracy: 0.9736 - val_loss: 0.0537 - val_accuracy: 0.9824\n",
      "Epoch 42/100\n",
      "150/150 [==============================] - 0s 1ms/step - loss: 0.0692 - accuracy: 0.9740 - val_loss: 0.0527 - val_accuracy: 0.9833\n",
      "Epoch 43/100\n",
      "150/150 [==============================] - 0s 1ms/step - loss: 0.0681 - accuracy: 0.9753 - val_loss: 0.0557 - val_accuracy: 0.9816\n",
      "Epoch 44/100\n",
      "150/150 [==============================] - 0s 1ms/step - loss: 0.0678 - accuracy: 0.9726 - val_loss: 0.0553 - val_accuracy: 0.9816\n",
      "Epoch 45/100\n",
      "150/150 [==============================] - 0s 1ms/step - loss: 0.0673 - accuracy: 0.9747 - val_loss: 0.0574 - val_accuracy: 0.9791\n",
      "Epoch 46/100\n",
      "150/150 [==============================] - 0s 1ms/step - loss: 0.0678 - accuracy: 0.9759 - val_loss: 0.0606 - val_accuracy: 0.9774\n",
      "Epoch 47/100\n",
      "150/150 [==============================] - 0s 1ms/step - loss: 0.0673 - accuracy: 0.9757 - val_loss: 0.0639 - val_accuracy: 0.9766\n",
      "Epoch 48/100\n",
      "150/150 [==============================] - 0s 1ms/step - loss: 0.0673 - accuracy: 0.9743 - val_loss: 0.0556 - val_accuracy: 0.9799\n",
      "Epoch 49/100\n",
      "150/150 [==============================] - 0s 1ms/step - loss: 0.0659 - accuracy: 0.9766 - val_loss: 0.0522 - val_accuracy: 0.9833\n",
      "Epoch 50/100\n",
      "150/150 [==============================] - 0s 1ms/step - loss: 0.0658 - accuracy: 0.9755 - val_loss: 0.0510 - val_accuracy: 0.9841\n",
      "Epoch 51/100\n",
      "150/150 [==============================] - 0s 1ms/step - loss: 0.0669 - accuracy: 0.9774 - val_loss: 0.0510 - val_accuracy: 0.9841\n",
      "Epoch 52/100\n",
      "150/150 [==============================] - 0s 1ms/step - loss: 0.0659 - accuracy: 0.9745 - val_loss: 0.0508 - val_accuracy: 0.9841\n",
      "Epoch 53/100\n",
      "150/150 [==============================] - 0s 1ms/step - loss: 0.0652 - accuracy: 0.9759 - val_loss: 0.0514 - val_accuracy: 0.9833\n",
      "Epoch 54/100\n",
      "150/150 [==============================] - 0s 1ms/step - loss: 0.0645 - accuracy: 0.9763 - val_loss: 0.0504 - val_accuracy: 0.9841\n",
      "Epoch 55/100\n",
      "150/150 [==============================] - 0s 1ms/step - loss: 0.0663 - accuracy: 0.9759 - val_loss: 0.0521 - val_accuracy: 0.9824\n",
      "Epoch 56/100\n",
      "150/150 [==============================] - 0s 2ms/step - loss: 0.0664 - accuracy: 0.9753 - val_loss: 0.0522 - val_accuracy: 0.9816\n",
      "Epoch 57/100\n",
      "150/150 [==============================] - 0s 1ms/step - loss: 0.0650 - accuracy: 0.9759 - val_loss: 0.0593 - val_accuracy: 0.9782\n",
      "Epoch 58/100\n",
      "150/150 [==============================] - 0s 1ms/step - loss: 0.0649 - accuracy: 0.9749 - val_loss: 0.0528 - val_accuracy: 0.9824\n",
      "Epoch 59/100\n",
      "150/150 [==============================] - 0s 1ms/step - loss: 0.0641 - accuracy: 0.9763 - val_loss: 0.0573 - val_accuracy: 0.9799\n",
      "Epoch 60/100\n",
      "150/150 [==============================] - 0s 1ms/step - loss: 0.0645 - accuracy: 0.9759 - val_loss: 0.0500 - val_accuracy: 0.9841\n",
      "Epoch 61/100\n",
      "150/150 [==============================] - 0s 1ms/step - loss: 0.0635 - accuracy: 0.9761 - val_loss: 0.0519 - val_accuracy: 0.9824\n",
      "Epoch 62/100\n",
      "150/150 [==============================] - 0s 1ms/step - loss: 0.0636 - accuracy: 0.9759 - val_loss: 0.0516 - val_accuracy: 0.9824\n",
      "Epoch 63/100\n",
      "150/150 [==============================] - 0s 1ms/step - loss: 0.0631 - accuracy: 0.9772 - val_loss: 0.0636 - val_accuracy: 0.9749\n",
      "Epoch 64/100\n",
      "150/150 [==============================] - 0s 1ms/step - loss: 0.0639 - accuracy: 0.9751 - val_loss: 0.0485 - val_accuracy: 0.9849\n",
      "Epoch 65/100\n",
      "150/150 [==============================] - 0s 1ms/step - loss: 0.0633 - accuracy: 0.9755 - val_loss: 0.0502 - val_accuracy: 0.9841\n",
      "Epoch 66/100\n",
      "150/150 [==============================] - 0s 1ms/step - loss: 0.0625 - accuracy: 0.9757 - val_loss: 0.0481 - val_accuracy: 0.9849\n",
      "Epoch 67/100\n",
      "150/150 [==============================] - 0s 1ms/step - loss: 0.0607 - accuracy: 0.9782 - val_loss: 0.0491 - val_accuracy: 0.9833\n",
      "Epoch 68/100\n",
      "150/150 [==============================] - 0s 1ms/step - loss: 0.0622 - accuracy: 0.9774 - val_loss: 0.0492 - val_accuracy: 0.9841\n",
      "Epoch 69/100\n",
      "150/150 [==============================] - 0s 2ms/step - loss: 0.0627 - accuracy: 0.9763 - val_loss: 0.0518 - val_accuracy: 0.9824\n",
      "Epoch 70/100\n",
      "150/150 [==============================] - 0s 1ms/step - loss: 0.0610 - accuracy: 0.9772 - val_loss: 0.0476 - val_accuracy: 0.9841\n",
      "Epoch 71/100\n",
      "150/150 [==============================] - 0s 1ms/step - loss: 0.0607 - accuracy: 0.9787 - val_loss: 0.0660 - val_accuracy: 0.9741\n",
      "Epoch 72/100\n",
      "150/150 [==============================] - 0s 1ms/step - loss: 0.0637 - accuracy: 0.9755 - val_loss: 0.0490 - val_accuracy: 0.9849\n",
      "Epoch 73/100\n",
      "150/150 [==============================] - 0s 1ms/step - loss: 0.0615 - accuracy: 0.9776 - val_loss: 0.0520 - val_accuracy: 0.9816\n",
      "Epoch 74/100\n",
      "150/150 [==============================] - 0s 1ms/step - loss: 0.0607 - accuracy: 0.9774 - val_loss: 0.0472 - val_accuracy: 0.9858\n",
      "Epoch 75/100\n",
      "150/150 [==============================] - 0s 1ms/step - loss: 0.0600 - accuracy: 0.9780 - val_loss: 0.0534 - val_accuracy: 0.9799\n",
      "Epoch 76/100\n",
      "150/150 [==============================] - 0s 1ms/step - loss: 0.0611 - accuracy: 0.9772 - val_loss: 0.0526 - val_accuracy: 0.9799\n",
      "Epoch 77/100\n",
      "150/150 [==============================] - 0s 1ms/step - loss: 0.0607 - accuracy: 0.9761 - val_loss: 0.0551 - val_accuracy: 0.9791\n",
      "Epoch 78/100\n",
      "150/150 [==============================] - 0s 1ms/step - loss: 0.0597 - accuracy: 0.9772 - val_loss: 0.0571 - val_accuracy: 0.9782\n",
      "Epoch 79/100\n",
      "150/150 [==============================] - 0s 1ms/step - loss: 0.0604 - accuracy: 0.9778 - val_loss: 0.0505 - val_accuracy: 0.9824\n",
      "Epoch 80/100\n",
      "150/150 [==============================] - 0s 1ms/step - loss: 0.0604 - accuracy: 0.9787 - val_loss: 0.0460 - val_accuracy: 0.9858\n",
      "Epoch 81/100\n",
      "150/150 [==============================] - 0s 1ms/step - loss: 0.0591 - accuracy: 0.9787 - val_loss: 0.0486 - val_accuracy: 0.9841\n",
      "Epoch 82/100\n",
      "150/150 [==============================] - 0s 1ms/step - loss: 0.0599 - accuracy: 0.9776 - val_loss: 0.0482 - val_accuracy: 0.9858\n",
      "Epoch 83/100\n",
      "150/150 [==============================] - 0s 1ms/step - loss: 0.0605 - accuracy: 0.9766 - val_loss: 0.0463 - val_accuracy: 0.9849\n",
      "Epoch 84/100\n",
      "150/150 [==============================] - 0s 1ms/step - loss: 0.0590 - accuracy: 0.9776 - val_loss: 0.0482 - val_accuracy: 0.9841\n",
      "Epoch 85/100\n",
      "150/150 [==============================] - 0s 1ms/step - loss: 0.0586 - accuracy: 0.9772 - val_loss: 0.0496 - val_accuracy: 0.9833\n",
      "Epoch 86/100\n",
      "150/150 [==============================] - 0s 1ms/step - loss: 0.0590 - accuracy: 0.9784 - val_loss: 0.0455 - val_accuracy: 0.9849\n",
      "Epoch 87/100\n",
      "150/150 [==============================] - 0s 1ms/step - loss: 0.0583 - accuracy: 0.9776 - val_loss: 0.0576 - val_accuracy: 0.9766\n",
      "Epoch 88/100\n",
      "150/150 [==============================] - 0s 1ms/step - loss: 0.0585 - accuracy: 0.9787 - val_loss: 0.0466 - val_accuracy: 0.9858\n",
      "Epoch 89/100\n",
      "150/150 [==============================] - 0s 1ms/step - loss: 0.0581 - accuracy: 0.9776 - val_loss: 0.0497 - val_accuracy: 0.9824\n",
      "Epoch 90/100\n",
      "150/150 [==============================] - 0s 1ms/step - loss: 0.0577 - accuracy: 0.9791 - val_loss: 0.0462 - val_accuracy: 0.9858\n",
      "Epoch 91/100\n",
      "150/150 [==============================] - 0s 1ms/step - loss: 0.0585 - accuracy: 0.9793 - val_loss: 0.0512 - val_accuracy: 0.9791\n",
      "Epoch 92/100\n",
      "150/150 [==============================] - 0s 1ms/step - loss: 0.0579 - accuracy: 0.9805 - val_loss: 0.0510 - val_accuracy: 0.9791\n",
      "Epoch 93/100\n",
      "150/150 [==============================] - 0s 1ms/step - loss: 0.0580 - accuracy: 0.9787 - val_loss: 0.0521 - val_accuracy: 0.9782\n",
      "Epoch 94/100\n",
      "150/150 [==============================] - 0s 1ms/step - loss: 0.0586 - accuracy: 0.9789 - val_loss: 0.0441 - val_accuracy: 0.9866\n",
      "Epoch 95/100\n",
      "150/150 [==============================] - 0s 1ms/step - loss: 0.0577 - accuracy: 0.9791 - val_loss: 0.0456 - val_accuracy: 0.9858\n",
      "Epoch 96/100\n",
      "150/150 [==============================] - 0s 1ms/step - loss: 0.0603 - accuracy: 0.9776 - val_loss: 0.0437 - val_accuracy: 0.9874\n",
      "Epoch 97/100\n",
      "150/150 [==============================] - 0s 1ms/step - loss: 0.0572 - accuracy: 0.9793 - val_loss: 0.0495 - val_accuracy: 0.9808\n",
      "Epoch 98/100\n",
      "150/150 [==============================] - 0s 1ms/step - loss: 0.0561 - accuracy: 0.9797 - val_loss: 0.0439 - val_accuracy: 0.9858\n",
      "Epoch 99/100\n",
      "150/150 [==============================] - 0s 1ms/step - loss: 0.0571 - accuracy: 0.9782 - val_loss: 0.0477 - val_accuracy: 0.9849\n",
      "Epoch 100/100\n",
      "150/150 [==============================] - 0s 1ms/step - loss: 0.0560 - accuracy: 0.9782 - val_loss: 0.0583 - val_accuracy: 0.9766\n"
     ]
    }
   ],
   "source": [
    "hist = model.fit(train_data, train_labels, epochs=100, batch_size=32, validation_split=0.2)"
   ]
  },
  {
   "cell_type": "markdown",
   "id": "6dd4aab9-b129-4118-b17d-3f44765320ca",
   "metadata": {},
   "source": [
    "## Test Result"
   ]
  },
  {
   "cell_type": "code",
   "execution_count": 28,
   "id": "143c6194-8a9d-4946-b7b6-4127423b69d0",
   "metadata": {},
   "outputs": [
    {
     "data": {
      "image/png": "[encoded data removed]",
      "text/plain": [
       "<Figure size 640x480 with 2 Axes>"
      ]
     },
     "metadata": {},
     "output_type": "display_data"
    },
    {
     "name": "stdout",
     "output_type": "stream",
     "text": [
      "ROOT MEAN SQUARE ERROR = 0.12871000373025\n",
      "Accuracy = 0.983433734939759\n",
      "Precision = 0.9768115942028985\n",
      "Recall = 0.9911764705882353\n"
     ]
    }
   ],
   "source": [
    "Dnn_model = model  # pass the model in order to be used latter\n",
    "\n",
    "\n",
    "def cf_matrix_show(model_eval, test_data_eval, test_labels_eval):\n",
    "    \"\"\"\n",
    "    Displays a confusion matrix heatmap and calculates evaluation metrics for a given model.\n",
    "    Parameters:\n",
    "    model_eval (keras.Model): The trained model to evaluate.\n",
    "    test_data_eval (numpy.ndarray): The data to test the model on.\n",
    "    test_labels_eval (numpy.ndarray): The true labels for the test data.\n",
    "    \"\"\"\n",
    "    prediction_result = model_eval.predict(test_data_eval, verbose=0)\n",
    "    y_pred = np.argmax(prediction_result, axis=-1)\n",
    "\n",
    "    # Confusion matrix heatmap\n",
    "    conf_matrix = confusion_matrix(test_labels_eval, y_pred)\n",
    "    ax = sns.heatmap(conf_matrix, annot=True, fmt=\"d\")\n",
    "    # The top and bottom of heatmap gets trimmed off so to prevent that we set ylim\n",
    "    bottom, top = ax.get_ylim()\n",
    "    ax.set_ylim(bottom + 0.5, top - 0.5)\n",
    "    plt.title(\"Confusion matrix\")\n",
    "    plt.show()\n",
    "    pred = y_pred.astype(int)\n",
    "\n",
    "    # Calculating root mean square error\n",
    "    rmse = np.sqrt(np.mean(((pred - test_labels_eval) ** 2)))\n",
    "    print(f\"ROOT MEAN SQUARE ERROR = {rmse}\")\n",
    "    print(f\"Accuracy = {accuracy_score(test_labels_eval, pred)}\")\n",
    "    print(f\"Precision = {precision_score(test_labels_eval, pred)}\")\n",
    "    print(f\"Recall = {recall_score(test_labels_eval, pred)}\")\n",
    "\n",
    "\n",
    "cf_matrix_show(Dnn_model, test_data, test_labels)"
   ]
  },
  {
   "cell_type": "markdown",
   "id": "944566c2-d0ca-4b01-8288-16759b85658f",
   "metadata": {},
   "source": [
    "# QAT for keeping accuracy\n",
    "- Here we use QAT to prevent accuracy drop when do quantization."
   ]
  },
  {
   "cell_type": "code",
   "execution_count": 29,
   "id": "28cc7dfe-b4ff-4d34-9872-e97b771add60",
   "metadata": {},
   "outputs": [
    {
     "name": "stdout",
     "output_type": "stream",
     "text": [
      "Model: \"sequential_2\"\n",
      "_________________________________________________________________\n",
      " Layer (type)                Output Shape              Param #   \n",
      "=================================================================\n",
      " quantize_layer_1 (QuantizeL  (None, 16)               3         \n",
      " ayer)                                                           \n",
      "                                                                 \n",
      " quant_dense_10 (QuantizeWra  (None, 4)                69        \n",
      " pperV2)                                                         \n",
      "                                                                 \n",
      " quant_activation_8 (Quantiz  (None, 4)                3         \n",
      " eWrapperV2)                                                     \n",
      "                                                                 \n",
      " quant_dense_11 (QuantizeWra  (None, 8)                41        \n",
      " pperV2)                                                         \n",
      "                                                                 \n",
      " quant_activation_9 (Quantiz  (None, 8)                3         \n",
      " eWrapperV2)                                                     \n",
      "                                                                 \n",
      " quant_dense_12 (QuantizeWra  (None, 16)               145       \n",
      " pperV2)                                                         \n",
      "                                                                 \n",
      " quant_activation_10 (Quanti  (None, 16)               3         \n",
      " zeWrapperV2)                                                    \n",
      "                                                                 \n",
      " quant_dense_13 (QuantizeWra  (None, 8)                137       \n",
      " pperV2)                                                         \n",
      "                                                                 \n",
      " quant_activation_11 (Quanti  (None, 8)                3         \n",
      " zeWrapperV2)                                                    \n",
      "                                                                 \n",
      " quant_dense_14 (QuantizeWra  (None, 2)                23        \n",
      " pperV2)                                                         \n",
      "                                                                 \n",
      "=================================================================\n",
      "Total params: 430\n",
      "Trainable params: 406\n",
      "Non-trainable params: 24\n",
      "_________________________________________________________________\n"
     ]
    }
   ],
   "source": [
    "quant_aware_model = tfmot.quantization.keras.quantize_model(Dnn_model)\n",
    "optimizer = Adam(learning_rate=0.0001)\n",
    "quant_aware_model.compile(optimizer=optimizer, loss=\"sparse_categorical_crossentropy\", metrics=[\"accuracy\"])\n",
    "quant_aware_model.summary()"
   ]
  },
  {
   "cell_type": "code",
   "execution_count": 30,
   "id": "d258c987-3f70-41e4-958f-56d88036d155",
   "metadata": {},
   "outputs": [
    {
     "name": "stdout",
     "output_type": "stream",
     "text": [
      "Epoch 1/10\n",
      "150/150 [==============================] - 1s 3ms/step - loss: 0.4029 - accuracy: 0.8284 - val_loss: 0.1355 - val_accuracy: 0.9808\n",
      "Epoch 2/10\n",
      "150/150 [==============================] - 0s 2ms/step - loss: 0.1215 - accuracy: 0.9699 - val_loss: 0.0903 - val_accuracy: 0.9774\n",
      "Epoch 3/10\n",
      "150/150 [==============================] - 0s 2ms/step - loss: 0.0949 - accuracy: 0.9694 - val_loss: 0.0706 - val_accuracy: 0.9791\n",
      "Epoch 4/10\n",
      "150/150 [==============================] - 0s 2ms/step - loss: 0.0809 - accuracy: 0.9707 - val_loss: 0.0662 - val_accuracy: 0.9791\n",
      "Epoch 5/10\n",
      "150/150 [==============================] - 0s 2ms/step - loss: 0.0795 - accuracy: 0.9705 - val_loss: 0.0615 - val_accuracy: 0.9782\n",
      "Epoch 6/10\n",
      "150/150 [==============================] - 0s 1ms/step - loss: 0.0786 - accuracy: 0.9697 - val_loss: 0.0602 - val_accuracy: 0.9774\n",
      "Epoch 7/10\n",
      "150/150 [==============================] - 0s 2ms/step - loss: 0.0779 - accuracy: 0.9707 - val_loss: 0.0606 - val_accuracy: 0.9816\n",
      "Epoch 8/10\n",
      "150/150 [==============================] - 0s 2ms/step - loss: 0.0780 - accuracy: 0.9697 - val_loss: 0.0718 - val_accuracy: 0.9707\n",
      "Epoch 9/10\n",
      "150/150 [==============================] - 0s 2ms/step - loss: 0.0754 - accuracy: 0.9703 - val_loss: 0.0562 - val_accuracy: 0.9808\n",
      "Epoch 10/10\n",
      "150/150 [==============================] - 0s 1ms/step - loss: 0.0760 - accuracy: 0.9697 - val_loss: 0.0560 - val_accuracy: 0.9816\n"
     ]
    }
   ],
   "source": [
    "hist = quant_aware_model.fit(train_data, train_labels, epochs=10, batch_size=32, validation_split=0.2)"
   ]
  },
  {
   "cell_type": "code",
   "execution_count": 31,
   "id": "42ad34f1-6a21-4f49-96cc-cccd63581628",
   "metadata": {},
   "outputs": [
    {
     "data": {
      "image/png": "[encoded data removed]",
      "text/plain": [
       "<Figure size 640x480 with 2 Axes>"
      ]
     },
     "metadata": {},
     "output_type": "display_data"
    },
    {
     "name": "stdout",
     "output_type": "stream",
     "text": [
      "ROOT MEAN SQUARE ERROR = 0.15030090301053795\n",
      "Accuracy = 0.9774096385542169\n",
      "Precision = 0.9821958456973294\n",
      "Recall = 0.9735294117647059\n"
     ]
    }
   ],
   "source": [
    "cf_matrix_show(quant_aware_model, test_data, test_labels)"
   ]
  },
  {
   "cell_type": "markdown",
   "id": "cca61f16-53d9-42c6-8b80-ebabef2a29a3",
   "metadata": {},
   "source": [
    "# TensorFlow Lite Conversion"
   ]
  },
  {
   "cell_type": "markdown",
   "id": "858d16c3",
   "metadata": {},
   "source": [
    "### 1. Save as saved_model"
   ]
  },
  {
   "cell_type": "code",
   "execution_count": 32,
   "id": "b04b1454-7715-408a-9161-bb100a03c873",
   "metadata": {},
   "outputs": [
    {
     "name": "stderr",
     "output_type": "stream",
     "text": [
      "WARNING:absl:Found untraced functions such as dense_10_layer_call_fn, dense_10_layer_call_and_return_conditional_losses, activation_8_layer_call_fn, activation_8_layer_call_and_return_conditional_losses, dense_11_layer_call_fn while saving (showing 5 of 18). These functions will not be directly callable after loading.\n"
     ]
    },
    {
     "name": "stdout",
     "output_type": "stream",
     "text": [
      "INFO:tensorflow:Assets written to: dnn\\assets\n"
     ]
    },
    {
     "name": "stderr",
     "output_type": "stream",
     "text": [
      "INFO:tensorflow:Assets written to: dnn\\assets\n"
     ]
    }
   ],
   "source": [
    "# If we're happy with the performance, save the model\n",
    "ori_model = quant_aware_model\n",
    "KERAS_MODEL_NAME = \"dnn\"\n",
    "\n",
    "tf.saved_model.save(ori_model, KERAS_MODEL_NAME)"
   ]
  },
  {
   "cell_type": "markdown",
   "id": "34e9ba5b",
   "metadata": {},
   "source": [
    "### 2. Save as TFLite"
   ]
  },
  {
   "cell_type": "code",
   "execution_count": 33,
   "id": "00b2597b-9fed-47a1-8dd2-952cf2cab2b6",
   "metadata": {},
   "outputs": [
    {
     "name": "stderr",
     "output_type": "stream",
     "text": [
      "WARNING:absl:Found untraced functions such as dense_10_layer_call_fn, dense_10_layer_call_and_return_conditional_losses, activation_8_layer_call_fn, activation_8_layer_call_and_return_conditional_losses, dense_11_layer_call_fn while saving (showing 5 of 18). These functions will not be directly callable after loading.\n"
     ]
    },
    {
     "name": "stdout",
     "output_type": "stream",
     "text": [
      "INFO:tensorflow:Assets written to: C:\\Users\\cychen38\\AppData\\Local\\Temp\\tmpfo1ax602\\assets\n"
     ]
    },
    {
     "name": "stderr",
     "output_type": "stream",
     "text": [
      "INFO:tensorflow:Assets written to: C:\\Users\\cychen38\\AppData\\Local\\Temp\\tmpfo1ax602\\assets\n"
     ]
    },
    {
     "data": {
      "text/plain": [
       "11544"
      ]
     },
     "execution_count": 33,
     "metadata": {},
     "output_type": "execute_result"
    }
   ],
   "source": [
    "# Convert Keras model to a tflite model\n",
    "converter = tf.lite.TFLiteConverter.from_keras_model(ori_model)\n",
    "tflite_model = converter.convert()\n",
    "\n",
    "open(os.path.join(KERAS_MODEL_NAME, (KERAS_MODEL_NAME + \".tflite\")), \"wb\").write(tflite_model)"
   ]
  },
  {
   "cell_type": "markdown",
   "id": "2c7b8d5d",
   "metadata": {},
   "source": [
    "### 3. Convert TFLite to C++ file"
   ]
  },
  {
   "cell_type": "code",
   "execution_count": 34,
   "id": "3a8b9209-2c45-4b7d-abd7-748540fa7cb9",
   "metadata": {},
   "outputs": [],
   "source": [
    "def tflite_to_tflu(*, models_path, c_model_name, keras_model_name, threshold, maxv, minv):\n",
    "    \"\"\"\n",
    "    Converts a TensorFlow Lite model to a TensorFlow Lite Micro model and saves it as a C source file.\n",
    "    Returns:\n",
    "        None\n",
    "    \"\"\"\n",
    "\n",
    "    tflite_name = os.path.join(keras_model_name, (keras_model_name + \".tflite\"))\n",
    "    my_f_name = os.path.join(models_path, c_model_name) + \".cc\"\n",
    "    ! python tflite_to_tflu_para.py --tflite_path $tflite_name --output_path $my_f_name --window_size_sample $WIN_LEN --max_val_train $maxv --min_val_train $minv --threshold_val $threshold\n",
    "\n",
    "\n",
    "MODEL_PATH = \"model\"\n",
    "C_MODEL_NAME = r\"Gearbox_fault_\" + KERAS_MODEL_NAME\n",
    "tflite_to_tflu(models_path=MODEL_PATH, c_model_name=C_MODEL_NAME, keras_model_name=KERAS_MODEL_NAME, threshold=0, maxv=max_val.numpy(), minv=min_val.numpy())"
   ]
  },
  {
   "cell_type": "markdown",
   "id": "9ded5c71-6383-4336-940b-da210393fab0",
   "metadata": {},
   "source": [
    "# Convert to int8 TFLite and testing\n",
    "- Int8 full quantization "
   ]
  },
  {
   "cell_type": "markdown",
   "id": "e2115426",
   "metadata": {},
   "source": [
    "### 1. Save as Int8 TFLite"
   ]
  },
  {
   "cell_type": "code",
   "execution_count": 35,
   "id": "9db7e770-4dd7-4cae-8383-5422c04cd31c",
   "metadata": {},
   "outputs": [
    {
     "name": "stderr",
     "output_type": "stream",
     "text": [
      "WARNING:absl:Found untraced functions such as dense_10_layer_call_fn, dense_10_layer_call_and_return_conditional_losses, activation_8_layer_call_fn, activation_8_layer_call_and_return_conditional_losses, dense_11_layer_call_fn while saving (showing 5 of 18). These functions will not be directly callable after loading.\n"
     ]
    },
    {
     "name": "stdout",
     "output_type": "stream",
     "text": [
      "INFO:tensorflow:Assets written to: C:\\Users\\cychen38\\AppData\\Local\\Temp\\tmp1qk3_0xd\\assets\n"
     ]
    },
    {
     "name": "stderr",
     "output_type": "stream",
     "text": [
      "INFO:tensorflow:Assets written to: C:\\Users\\cychen38\\AppData\\Local\\Temp\\tmp1qk3_0xd\\assets\n",
      "c:\\ProgramData\\miniforge3\\envs\\NuEdgeWise_env\\lib\\site-packages\\tensorflow\\lite\\python\\convert.py:766: UserWarning: Statistics for quantized inputs were expected, but not specified; continuing anyway.\n",
      "  warnings.warn(\"Statistics for quantized inputs were expected, but not \"\n"
     ]
    },
    {
     "data": {
      "text/plain": [
       "4352"
      ]
     },
     "execution_count": 35,
     "metadata": {},
     "output_type": "execute_result"
    }
   ],
   "source": [
    "# Convert the model to the TensorFlow Lite format with quantization\n",
    "NUM_REP_DATA_SAMPLES = 300\n",
    "\n",
    "\n",
    "def _rep_dataset():\n",
    "    \"\"\"Generator function to produce representative dataset.\"\"\"\n",
    "    for idx, train_data_ele in enumerate(train_data):\n",
    "        if idx >= NUM_REP_DATA_SAMPLES:\n",
    "            break\n",
    "        yield [tf.dtypes.cast(train_data_ele, tf.float32)]\n",
    "\n",
    "\n",
    "converter = tf.lite.TFLiteConverter.from_keras_model(ori_model)\n",
    "converter.optimizations = [tf.lite.Optimize.DEFAULT]\n",
    "converter.target_spec.supported_ops = [tf.lite.OpsSet.TFLITE_BUILTINS_INT8, tf.lite.OpsSet.TFLITE_BUILTINS]\n",
    "converter.representative_dataset = _rep_dataset\n",
    "converter.inference_input_type = tf.int8  # or tf.uint8\n",
    "converter.inference_output_type = tf.int8  # or tf.uint8\n",
    "tflite_model = converter.convert()\n",
    "\n",
    "open(os.path.join(KERAS_MODEL_NAME, (KERAS_MODEL_NAME + \"_int8quantized.tflite\")), \"wb\").write(tflite_model)"
   ]
  },
  {
   "cell_type": "markdown",
   "id": "f17a9148",
   "metadata": {},
   "source": [
    "### 2. Test the Int8 TFLite "
   ]
  },
  {
   "cell_type": "code",
   "execution_count": 36,
   "id": "7b4df85b-9c2c-4730-9ba5-857dd5b78194",
   "metadata": {},
   "outputs": [],
   "source": [
    "def tflite_inference(input_data, inf_tflite_path):\n",
    "    \"\"\"Call forwards pass of TFLite file and returns the result.\n",
    "\n",
    "    Args:\n",
    "        input_data: Input data to use on forward pass.\n",
    "        inf_tflite_path: Path to TFLite file to run.\n",
    "\n",
    "    Returns:\n",
    "        Output from inference.\n",
    "    \"\"\"\n",
    "    interpreter = tf.lite.Interpreter(model_path=inf_tflite_path)\n",
    "    interpreter.allocate_tensors()\n",
    "\n",
    "    input_details = interpreter.get_input_details()\n",
    "    output_details = interpreter.get_output_details()\n",
    "\n",
    "    input_dtype = input_details[0][\"dtype\"]\n",
    "    output_dtype = output_details[0][\"dtype\"]\n",
    "\n",
    "    # Check if the input/output type is quantized,\n",
    "    # set scale and zero-point accordingly\n",
    "    if input_dtype == np.int8:\n",
    "        input_scale, input_zero_point = input_details[0][\"quantization\"]\n",
    "    else:\n",
    "        input_scale, input_zero_point = 1, 0\n",
    "\n",
    "    input_data = input_data / input_scale + input_zero_point\n",
    "    input_data = np.round(input_data) if input_dtype == np.int8 else input_data\n",
    "\n",
    "    if output_dtype == np.int8:\n",
    "        output_scale, output_zero_point = output_details[0][\"quantization\"]\n",
    "    else:\n",
    "        output_scale, output_zero_point = 1, 0\n",
    "\n",
    "    interpreter.set_tensor(input_details[0][\"index\"], tf.cast(input_data, input_dtype))\n",
    "    interpreter.invoke()\n",
    "\n",
    "    output_data = interpreter.get_tensor(output_details[0][\"index\"])\n",
    "\n",
    "    output_data = output_scale * (output_data.astype(np.float32) - output_zero_point)\n",
    "\n",
    "    return output_data\n",
    "\n",
    "\n",
    "def calculate_accuracy(predicted_result_indices, expected_indices):\n",
    "    \"\"\"Calculates and returns accuracy.\n",
    "\n",
    "    Args:\n",
    "        predicted_result_indices: List of predicted integer indices.\n",
    "        expected_indices: List of expected integer indices.\n",
    "\n",
    "    Returns:\n",
    "        Accuracy value between 0 and 1.\n",
    "    \"\"\"\n",
    "    correct_prediction = tf.equal(predicted_result_indices, expected_indices)\n",
    "    accuracy = tf.reduce_mean(tf.cast(correct_prediction, tf.float32))\n",
    "    return accuracy"
   ]
  },
  {
   "cell_type": "code",
   "execution_count": 37,
   "id": "33e03677-8fa6-438a-aa6a-1d2ab2f07a6f",
   "metadata": {},
   "outputs": [
    {
     "name": "stdout",
     "output_type": "stream",
     "text": [
      "[[315   9]\n",
      " [  5 335]]\n",
      "Test accuracy = 97.89%\n"
     ]
    }
   ],
   "source": [
    "tflite_path = os.path.join(KERAS_MODEL_NAME, (KERAS_MODEL_NAME + \"_int8quantized.tflite\"))\n",
    "\n",
    "predicted_indices = []\n",
    "\n",
    "for data, label in zip(test_data, test_labels):  # pylint: disable=unused-variable\n",
    "    prediction = tflite_inference(tf.expand_dims(data, axis=0), tflite_path)\n",
    "    predicted_indices.append(np.squeeze(tf.argmax(prediction, axis=1)))\n",
    "\n",
    "test_accuracy = calculate_accuracy(predicted_indices, test_labels)\n",
    "confusion_matrix_result = tf.math.confusion_matrix(labels=tf.constant(test_labels), predictions=predicted_indices, num_classes=2)\n",
    "print(confusion_matrix_result.numpy())\n",
    "print(f\"Test accuracy = {test_accuracy * 100:.2f}%\")"
   ]
  },
  {
   "cell_type": "markdown",
   "id": "2c4582b0",
   "metadata": {},
   "source": [
    "### 3. Convert TFLite to C++ file"
   ]
  },
  {
   "cell_type": "code",
   "execution_count": 38,
   "id": "d26902e3",
   "metadata": {},
   "outputs": [],
   "source": [
    "MODEL_PATH = \"model\"\n",
    "C_MODEL_NAME = r\"Gearbox_fault_\" + KERAS_MODEL_NAME + r\"_int8quantized\"\n",
    "tflite_to_tflu(models_path=MODEL_PATH, c_model_name=C_MODEL_NAME, keras_model_name=KERAS_MODEL_NAME, threshold=0, maxv=max_val.numpy(), minv=min_val.numpy())"
   ]
  }
 ],
 "metadata": {
  "kernelspec": {
   "display_name": "NuEdgeWise_env",
   "language": "python",
   "name": "python3"
  },
  "language_info": {
   "codemirror_mode": {
    "name": "ipython",
    "version": 3
   },
   "file_extension": ".py",
   "mimetype": "text/x-python",
   "name": "python",
   "nbconvert_exporter": "python",
   "pygments_lexer": "ipython3",
   "version": "3.9.13"
  },
  "toc-autonumbering": true
 },
 "nbformat": 4,
 "nbformat_minor": 5
}
