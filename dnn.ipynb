{
 "cells": [
  {
   "cell_type": "code",
   "execution_count": 1,
   "id": "8ce308c7-3188-4b80-a466-7adf36db1350",
   "metadata": {},
   "outputs": [],
   "source": [
    "import numpy as np # linear algebra\n",
    "import pandas as pd # data processing, CSV file I/O (e.g. pd.read_csv)\n",
    "import math\n",
    "import os\n",
    "import matplotlib.pyplot as plt\n",
    "import seaborn as sns\n",
    "\n",
    "import tensorflow as tf\n",
    "from sklearn.metrics import accuracy_score, precision_score, recall_score\n",
    "\n",
    "from tensorflow.keras import layers, losses\n",
    "from tensorflow.keras.datasets import fashion_mnist\n",
    "from tensorflow.keras.models import Model\n",
    "from keras.optimizers import Adam\n"
   ]
  },
  {
   "cell_type": "markdown",
   "id": "e36fca62-5126-4b01-b5ae-5e9affb8be91",
   "metadata": {},
   "source": [
    "# Load the GearBox data"
   ]
  },
  {
   "cell_type": "code",
   "execution_count": 2,
   "id": "35c4308b-48d9-4048-a19d-5ca459a7ceb0",
   "metadata": {},
   "outputs": [],
   "source": [
    "import load_data\n",
    "\n",
    "pth1 = 'data/BrokenTooth'\n",
    "pth2 = 'data/Healthy'\n",
    "\n",
    "window_len = 300  # How many window_len as 1 feature point \n",
    "inference_data_point = 5 # This value should be considered the MCU rom size. 5*300*10*2 = 30000 float points\n",
    "\n",
    "broken_df_train, broken_df_test  = load_data.create_test_train_df_fromRaw(pth1 , 1, \n",
    "                                    inference_data_point, window_len, (load_data.addCol_load, load_data.addCol_fault))        \n",
    "healthy_df_train, healthy_df_test = load_data.create_test_train_df_fromRaw(pth2 , 0, \n",
    "                                    inference_data_point, window_len, (load_data.addCol_load, load_data.addCol_fault))\n",
    "\n",
    "#broken_df  = load_data.create_df_fromRaw(pth1 , 1, (load_data.addCol_load, load_data.addCol_fault))        \n",
    "#healthy_df = load_data.create_df_fromRaw(pth2 , 0, (load_data.addCol_load, load_data.addCol_fault))"
   ]
  },
  {
   "cell_type": "code",
   "execution_count": 3,
   "id": "e09664b6-5bdb-419c-905a-83eb7f96708d",
   "metadata": {},
   "outputs": [
    {
     "data": {
      "text/html": [
       "<div>\n",
       "<style scoped>\n",
       "    .dataframe tbody tr th:only-of-type {\n",
       "        vertical-align: middle;\n",
       "    }\n",
       "\n",
       "    .dataframe tbody tr th {\n",
       "        vertical-align: top;\n",
       "    }\n",
       "\n",
       "    .dataframe thead th {\n",
       "        text-align: right;\n",
       "    }\n",
       "</style>\n",
       "<table border=\"1\" class=\"dataframe\">\n",
       "  <thead>\n",
       "    <tr style=\"text-align: right;\">\n",
       "      <th></th>\n",
       "      <th>a1</th>\n",
       "      <th>a2</th>\n",
       "      <th>a3</th>\n",
       "      <th>a4</th>\n",
       "      <th>load</th>\n",
       "      <th>fault</th>\n",
       "    </tr>\n",
       "  </thead>\n",
       "  <tbody>\n",
       "    <tr>\n",
       "      <th>0</th>\n",
       "      <td>2.350390</td>\n",
       "      <td>1.454870</td>\n",
       "      <td>-1.667080</td>\n",
       "      <td>-2.055610</td>\n",
       "      <td>0.0</td>\n",
       "      <td>1.0</td>\n",
       "    </tr>\n",
       "    <tr>\n",
       "      <th>1</th>\n",
       "      <td>2.452970</td>\n",
       "      <td>1.400100</td>\n",
       "      <td>-2.825100</td>\n",
       "      <td>0.984487</td>\n",
       "      <td>0.0</td>\n",
       "      <td>1.0</td>\n",
       "    </tr>\n",
       "    <tr>\n",
       "      <th>2</th>\n",
       "      <td>-0.241284</td>\n",
       "      <td>-0.267390</td>\n",
       "      <td>0.793540</td>\n",
       "      <td>0.605862</td>\n",
       "      <td>0.0</td>\n",
       "      <td>1.0</td>\n",
       "    </tr>\n",
       "    <tr>\n",
       "      <th>3</th>\n",
       "      <td>1.130270</td>\n",
       "      <td>-0.890918</td>\n",
       "      <td>0.696969</td>\n",
       "      <td>0.613068</td>\n",
       "      <td>0.0</td>\n",
       "      <td>1.0</td>\n",
       "    </tr>\n",
       "    <tr>\n",
       "      <th>4</th>\n",
       "      <td>-1.296140</td>\n",
       "      <td>0.980479</td>\n",
       "      <td>-1.130560</td>\n",
       "      <td>-0.346971</td>\n",
       "      <td>0.0</td>\n",
       "      <td>1.0</td>\n",
       "    </tr>\n",
       "    <tr>\n",
       "      <th>...</th>\n",
       "      <td>...</td>\n",
       "      <td>...</td>\n",
       "      <td>...</td>\n",
       "      <td>...</td>\n",
       "      <td>...</td>\n",
       "      <td>...</td>\n",
       "    </tr>\n",
       "    <tr>\n",
       "      <th>14995</th>\n",
       "      <td>-3.443520</td>\n",
       "      <td>-0.361539</td>\n",
       "      <td>-0.376093</td>\n",
       "      <td>-2.447550</td>\n",
       "      <td>90.0</td>\n",
       "      <td>1.0</td>\n",
       "    </tr>\n",
       "    <tr>\n",
       "      <th>14996</th>\n",
       "      <td>2.458310</td>\n",
       "      <td>-2.838840</td>\n",
       "      <td>0.191190</td>\n",
       "      <td>-0.201169</td>\n",
       "      <td>90.0</td>\n",
       "      <td>1.0</td>\n",
       "    </tr>\n",
       "    <tr>\n",
       "      <th>14997</th>\n",
       "      <td>-0.755909</td>\n",
       "      <td>3.982960</td>\n",
       "      <td>-2.321580</td>\n",
       "      <td>0.749357</td>\n",
       "      <td>90.0</td>\n",
       "      <td>1.0</td>\n",
       "    </tr>\n",
       "    <tr>\n",
       "      <th>14998</th>\n",
       "      <td>1.299520</td>\n",
       "      <td>4.402300</td>\n",
       "      <td>-2.232460</td>\n",
       "      <td>0.535038</td>\n",
       "      <td>90.0</td>\n",
       "      <td>1.0</td>\n",
       "    </tr>\n",
       "    <tr>\n",
       "      <th>14999</th>\n",
       "      <td>1.179430</td>\n",
       "      <td>-4.292920</td>\n",
       "      <td>0.557745</td>\n",
       "      <td>2.700710</td>\n",
       "      <td>90.0</td>\n",
       "      <td>1.0</td>\n",
       "    </tr>\n",
       "  </tbody>\n",
       "</table>\n",
       "<p>15000 rows × 6 columns</p>\n",
       "</div>"
      ],
      "text/plain": [
       "             a1        a2        a3        a4  load  fault\n",
       "0      2.350390  1.454870 -1.667080 -2.055610   0.0    1.0\n",
       "1      2.452970  1.400100 -2.825100  0.984487   0.0    1.0\n",
       "2     -0.241284 -0.267390  0.793540  0.605862   0.0    1.0\n",
       "3      1.130270 -0.890918  0.696969  0.613068   0.0    1.0\n",
       "4     -1.296140  0.980479 -1.130560 -0.346971   0.0    1.0\n",
       "...         ...       ...       ...       ...   ...    ...\n",
       "14995 -3.443520 -0.361539 -0.376093 -2.447550  90.0    1.0\n",
       "14996  2.458310 -2.838840  0.191190 -0.201169  90.0    1.0\n",
       "14997 -0.755909  3.982960 -2.321580  0.749357  90.0    1.0\n",
       "14998  1.299520  4.402300 -2.232460  0.535038  90.0    1.0\n",
       "14999  1.179430 -4.292920  0.557745  2.700710  90.0    1.0\n",
       "\n",
       "[15000 rows x 6 columns]"
      ]
     },
     "execution_count": 3,
     "metadata": {},
     "output_type": "execute_result"
    }
   ],
   "source": [
    "broken_df_test\n",
    "#broken_df_train"
   ]
  },
  {
   "cell_type": "markdown",
   "id": "397d813d-a1c4-4ac6-b228-8fb808b6c275",
   "metadata": {},
   "source": [
    "# Feature Process"
   ]
  },
  {
   "cell_type": "code",
   "execution_count": 4,
   "id": "06dc29ef-f627-48c3-84d9-b94c762f5388",
   "metadata": {},
   "outputs": [
    {
     "name": "stdout",
     "output_type": "stream",
     "text": [
      "<class 'numpy.ndarray'> <class 'numpy.ndarray'>\n",
      "feature array shape of healthy point: (3336, 16), (3336,)\n",
      "feature array shape of broken point: (3301, 16), (3301,)\n"
     ]
    }
   ],
   "source": [
    "import feature_process\n",
    "\n",
    "# Calculate the windows size features, combine 300 data as 1 points. \n",
    "Data_healthy, Lable_healthy = feature_process.window_feature_autoencoder(healthy_df_train, 0, window_len, 4, 16)#200 =>0.87% #300 => 90%~92%(batch_size=256), #400 => 90%~92%(batch_size=128), #500 => 93%(batch_size=64)\n",
    "Data_broken, Lable_broken = feature_process.window_feature_autoencoder(broken_df_train, 1, window_len, 4, 16)\n",
    "print(type(Data_healthy), type(Lable_healthy))\n",
    "print(\"feature array shape of healthy point: {}, {}\".format(Data_healthy.shape, Lable_healthy.shape))\n",
    "print(\"feature array shape of broken point: {}, {}\".format(Data_broken.shape, Lable_broken.shape))"
   ]
  },
  {
   "cell_type": "code",
   "execution_count": 5,
   "id": "fe109066-c18d-44e3-adba-4e3f33f3481e",
   "metadata": {},
   "outputs": [
    {
     "name": "stdout",
     "output_type": "stream",
     "text": [
      "train data shape: (5973, 16), (5973,)\n",
      "test data shape: (664, 16), (664,)\n"
     ]
    }
   ],
   "source": [
    "# Create the random 80% train and 20% test\n",
    "train_data, test_data, train_labels, test_labels = feature_process.concatenate_data(Data_healthy,Data_broken,Lable_healthy,Lable_broken, 0.1, 21)\n",
    "print(\"train data shape: {}, {}\".format(train_data.shape, train_labels.shape))\n",
    "print(\"test data shape: {}, {}\".format(test_data.shape, test_labels.shape))\n",
    "# save the max&min val\n",
    "max_val = tf.reduce_max(train_data)\n",
    "min_val = tf.reduce_min(train_data)\n"
   ]
  },
  {
   "cell_type": "markdown",
   "id": "a7305dc7-9272-433f-ac8c-52d37601a3aa",
   "metadata": {
    "tags": []
   },
   "source": [
    "# DNN"
   ]
  },
  {
   "cell_type": "markdown",
   "id": "bc2611ce-bb31-40d4-a2e9-26853441fc28",
   "metadata": {},
   "source": [
    "## DNN training"
   ]
  },
  {
   "cell_type": "code",
   "execution_count": 17,
   "id": "da8941c9-6903-423d-a58d-06a0bde59c2f",
   "metadata": {},
   "outputs": [
    {
     "name": "stdout",
     "output_type": "stream",
     "text": [
      "Model: \"sequential_1\"\n",
      "_________________________________________________________________\n",
      " Layer (type)                Output Shape              Param #   \n",
      "=================================================================\n",
      " dense_5 (Dense)             (None, 4)                 68        \n",
      "                                                                 \n",
      " activation_4 (Activation)   (None, 4)                 0         \n",
      "                                                                 \n",
      " dense_6 (Dense)             (None, 8)                 40        \n",
      "                                                                 \n",
      " activation_5 (Activation)   (None, 8)                 0         \n",
      "                                                                 \n",
      " dense_7 (Dense)             (None, 16)                144       \n",
      "                                                                 \n",
      " activation_6 (Activation)   (None, 16)                0         \n",
      "                                                                 \n",
      " dense_8 (Dense)             (None, 8)                 136       \n",
      "                                                                 \n",
      " activation_7 (Activation)   (None, 8)                 0         \n",
      "                                                                 \n",
      " dense_9 (Dense)             (None, 2)                 18        \n",
      "                                                                 \n",
      "=================================================================\n",
      "Total params: 406\n",
      "Trainable params: 406\n",
      "Non-trainable params: 0\n",
      "_________________________________________________________________\n"
     ]
    }
   ],
   "source": [
    "from tensorflow.keras.layers import Dense\n",
    "from tensorflow.keras.callbacks import EarlyStopping\n",
    "from tensorflow.keras.layers import Dropout\n",
    "from tensorflow.keras.models import Sequential\n",
    "\n",
    "early_stop = EarlyStopping(monitor='loss', patience=2)\n",
    "model = Sequential()\n",
    "\n",
    "model.add(Dense(4, input_shape=(16,),kernel_initializer='random_uniform'))\n",
    "#model.add(tf.keras.layers.BatchNormalization())\n",
    "model.add(tf.keras.layers.Activation(\"relu\"))\n",
    "\n",
    "model.add(Dense(8, kernel_initializer='random_uniform'))\n",
    "#model.add(tf.keras.layers.BatchNormalization())\n",
    "model.add(tf.keras.layers.Activation(\"relu\"))\n",
    "\n",
    "model.add(Dense(16, kernel_initializer='random_uniform'))\n",
    "#model.add(tf.keras.layers.BatchNormalization())\n",
    "model.add(tf.keras.layers.Activation(\"relu\"))\n",
    "\n",
    "model.add(Dense(8, kernel_initializer='random_uniform'))\n",
    "#model.add(tf.keras.layers.BatchNormalization())\n",
    "model.add(tf.keras.layers.Activation(\"relu\"))\n",
    "\n",
    "model.add(Dense(2, activation='softmax',kernel_initializer='random_uniform'))\n",
    "model_settings = {}\n",
    "\n",
    "optimizer = Adam(learning_rate=0.0001)\n",
    "model.compile(optimizer=optimizer, loss='sparse_categorical_crossentropy', metrics=['accuracy'])\n",
    "model.summary()"
   ]
  },
  {
   "cell_type": "code",
   "execution_count": 18,
   "id": "354899ee-1377-4667-92b9-f1a9d16013d7",
   "metadata": {},
   "outputs": [
    {
     "name": "stdout",
     "output_type": "stream",
     "text": [
      "Epoch 1/100\n",
      "150/150 [==============================] - 1s 4ms/step - loss: 0.6929 - accuracy: 0.5452 - val_loss: 0.6920 - val_accuracy: 0.8586\n",
      "Epoch 2/100\n",
      "150/150 [==============================] - 0s 3ms/step - loss: 0.6864 - accuracy: 0.9232 - val_loss: 0.6752 - val_accuracy: 0.8753\n",
      "Epoch 3/100\n",
      "150/150 [==============================] - 0s 3ms/step - loss: 0.6406 - accuracy: 0.8972 - val_loss: 0.5873 - val_accuracy: 0.8954\n",
      "Epoch 4/100\n",
      "150/150 [==============================] - 0s 2ms/step - loss: 0.5025 - accuracy: 0.9242 - val_loss: 0.4107 - val_accuracy: 0.9456\n",
      "Epoch 5/100\n",
      "150/150 [==============================] - 0s 2ms/step - loss: 0.3278 - accuracy: 0.9569 - val_loss: 0.2542 - val_accuracy: 0.9674\n",
      "Epoch 6/100\n",
      "150/150 [==============================] - 0s 2ms/step - loss: 0.2085 - accuracy: 0.9644 - val_loss: 0.1654 - val_accuracy: 0.9766\n",
      "Epoch 7/100\n",
      "150/150 [==============================] - 0s 2ms/step - loss: 0.1496 - accuracy: 0.9663 - val_loss: 0.1247 - val_accuracy: 0.9774\n",
      "Epoch 8/100\n",
      "150/150 [==============================] - 0s 2ms/step - loss: 0.1217 - accuracy: 0.9663 - val_loss: 0.1021 - val_accuracy: 0.9774\n",
      "Epoch 9/100\n",
      "150/150 [==============================] - 0s 2ms/step - loss: 0.1078 - accuracy: 0.9661 - val_loss: 0.0905 - val_accuracy: 0.9782\n",
      "Epoch 10/100\n",
      "150/150 [==============================] - 0s 2ms/step - loss: 0.1000 - accuracy: 0.9674 - val_loss: 0.0832 - val_accuracy: 0.9791\n",
      "Epoch 11/100\n",
      "150/150 [==============================] - 0s 2ms/step - loss: 0.0941 - accuracy: 0.9671 - val_loss: 0.0803 - val_accuracy: 0.9766\n",
      "Epoch 12/100\n",
      "150/150 [==============================] - 0s 3ms/step - loss: 0.0910 - accuracy: 0.9682 - val_loss: 0.0776 - val_accuracy: 0.9757\n",
      "Epoch 13/100\n",
      "150/150 [==============================] - 0s 2ms/step - loss: 0.0888 - accuracy: 0.9692 - val_loss: 0.0837 - val_accuracy: 0.9707\n",
      "Epoch 14/100\n",
      "150/150 [==============================] - 0s 2ms/step - loss: 0.0866 - accuracy: 0.9661 - val_loss: 0.0707 - val_accuracy: 0.9808\n",
      "Epoch 15/100\n",
      "150/150 [==============================] - 0s 2ms/step - loss: 0.0853 - accuracy: 0.9680 - val_loss: 0.0732 - val_accuracy: 0.9757\n",
      "Epoch 16/100\n",
      "150/150 [==============================] - 0s 2ms/step - loss: 0.0839 - accuracy: 0.9684 - val_loss: 0.0692 - val_accuracy: 0.9782\n",
      "Epoch 17/100\n",
      "150/150 [==============================] - 0s 2ms/step - loss: 0.0837 - accuracy: 0.9684 - val_loss: 0.0674 - val_accuracy: 0.9816\n",
      "Epoch 18/100\n",
      "150/150 [==============================] - 0s 2ms/step - loss: 0.0832 - accuracy: 0.9692 - val_loss: 0.0695 - val_accuracy: 0.9766\n",
      "Epoch 19/100\n",
      "150/150 [==============================] - 0s 2ms/step - loss: 0.0819 - accuracy: 0.9688 - val_loss: 0.0660 - val_accuracy: 0.9816\n",
      "Epoch 20/100\n",
      "150/150 [==============================] - 0s 2ms/step - loss: 0.0811 - accuracy: 0.9684 - val_loss: 0.0647 - val_accuracy: 0.9816\n",
      "Epoch 21/100\n",
      "150/150 [==============================] - 0s 2ms/step - loss: 0.0808 - accuracy: 0.9678 - val_loss: 0.0676 - val_accuracy: 0.9766\n",
      "Epoch 22/100\n",
      "150/150 [==============================] - 0s 2ms/step - loss: 0.0805 - accuracy: 0.9684 - val_loss: 0.0635 - val_accuracy: 0.9808\n",
      "Epoch 23/100\n",
      "150/150 [==============================] - 0s 2ms/step - loss: 0.0807 - accuracy: 0.9690 - val_loss: 0.0629 - val_accuracy: 0.9799\n",
      "Epoch 24/100\n",
      "150/150 [==============================] - 0s 2ms/step - loss: 0.0797 - accuracy: 0.9692 - val_loss: 0.0647 - val_accuracy: 0.9782\n",
      "Epoch 25/100\n",
      "150/150 [==============================] - 0s 2ms/step - loss: 0.0786 - accuracy: 0.9705 - val_loss: 0.0619 - val_accuracy: 0.9799\n",
      "Epoch 26/100\n",
      "150/150 [==============================] - 0s 2ms/step - loss: 0.0789 - accuracy: 0.9678 - val_loss: 0.0653 - val_accuracy: 0.9791\n",
      "Epoch 27/100\n",
      "150/150 [==============================] - 0s 3ms/step - loss: 0.0776 - accuracy: 0.9690 - val_loss: 0.0619 - val_accuracy: 0.9824\n",
      "Epoch 28/100\n",
      "150/150 [==============================] - 0s 2ms/step - loss: 0.0779 - accuracy: 0.9701 - val_loss: 0.0694 - val_accuracy: 0.9732\n",
      "Epoch 29/100\n",
      "150/150 [==============================] - 0s 2ms/step - loss: 0.0771 - accuracy: 0.9707 - val_loss: 0.0641 - val_accuracy: 0.9791\n",
      "Epoch 30/100\n",
      "150/150 [==============================] - 0s 2ms/step - loss: 0.0774 - accuracy: 0.9694 - val_loss: 0.0603 - val_accuracy: 0.9808\n",
      "Epoch 31/100\n",
      "150/150 [==============================] - 0s 2ms/step - loss: 0.0765 - accuracy: 0.9692 - val_loss: 0.0596 - val_accuracy: 0.9782\n",
      "Epoch 32/100\n",
      "150/150 [==============================] - 0s 2ms/step - loss: 0.0762 - accuracy: 0.9709 - val_loss: 0.0593 - val_accuracy: 0.9782\n",
      "Epoch 33/100\n",
      "150/150 [==============================] - 0s 3ms/step - loss: 0.0765 - accuracy: 0.9711 - val_loss: 0.0684 - val_accuracy: 0.9741\n",
      "Epoch 34/100\n",
      "150/150 [==============================] - 0s 3ms/step - loss: 0.0754 - accuracy: 0.9715 - val_loss: 0.0648 - val_accuracy: 0.9791\n",
      "Epoch 35/100\n",
      "150/150 [==============================] - 0s 2ms/step - loss: 0.0757 - accuracy: 0.9699 - val_loss: 0.0642 - val_accuracy: 0.9791\n",
      "Epoch 36/100\n",
      "150/150 [==============================] - 0s 2ms/step - loss: 0.0752 - accuracy: 0.9715 - val_loss: 0.0606 - val_accuracy: 0.9799\n",
      "Epoch 37/100\n",
      "150/150 [==============================] - 0s 2ms/step - loss: 0.0741 - accuracy: 0.9717 - val_loss: 0.0630 - val_accuracy: 0.9791\n",
      "Epoch 38/100\n",
      "150/150 [==============================] - 0s 2ms/step - loss: 0.0751 - accuracy: 0.9705 - val_loss: 0.0693 - val_accuracy: 0.9732\n",
      "Epoch 39/100\n",
      "150/150 [==============================] - 0s 2ms/step - loss: 0.0739 - accuracy: 0.9711 - val_loss: 0.0579 - val_accuracy: 0.9799\n",
      "Epoch 40/100\n",
      "150/150 [==============================] - 0s 2ms/step - loss: 0.0738 - accuracy: 0.9720 - val_loss: 0.0580 - val_accuracy: 0.9824\n",
      "Epoch 41/100\n",
      "150/150 [==============================] - 0s 2ms/step - loss: 0.0739 - accuracy: 0.9722 - val_loss: 0.0627 - val_accuracy: 0.9791\n",
      "Epoch 42/100\n",
      "150/150 [==============================] - 0s 2ms/step - loss: 0.0732 - accuracy: 0.9730 - val_loss: 0.0602 - val_accuracy: 0.9791\n",
      "Epoch 43/100\n",
      "150/150 [==============================] - 0s 2ms/step - loss: 0.0738 - accuracy: 0.9715 - val_loss: 0.0597 - val_accuracy: 0.9791\n",
      "Epoch 44/100\n",
      "150/150 [==============================] - 0s 2ms/step - loss: 0.0726 - accuracy: 0.9722 - val_loss: 0.0591 - val_accuracy: 0.9799\n",
      "Epoch 45/100\n",
      "150/150 [==============================] - 0s 2ms/step - loss: 0.0729 - accuracy: 0.9720 - val_loss: 0.0586 - val_accuracy: 0.9799\n",
      "Epoch 46/100\n",
      "150/150 [==============================] - 0s 2ms/step - loss: 0.0725 - accuracy: 0.9738 - val_loss: 0.0604 - val_accuracy: 0.9799\n",
      "Epoch 47/100\n",
      "150/150 [==============================] - 0s 2ms/step - loss: 0.0726 - accuracy: 0.9720 - val_loss: 0.0562 - val_accuracy: 0.9816\n",
      "Epoch 48/100\n",
      "150/150 [==============================] - 0s 2ms/step - loss: 0.0720 - accuracy: 0.9728 - val_loss: 0.0567 - val_accuracy: 0.9816\n",
      "Epoch 49/100\n",
      "150/150 [==============================] - 0s 2ms/step - loss: 0.0727 - accuracy: 0.9722 - val_loss: 0.0557 - val_accuracy: 0.9816\n",
      "Epoch 50/100\n",
      "150/150 [==============================] - 0s 2ms/step - loss: 0.0722 - accuracy: 0.9730 - val_loss: 0.0609 - val_accuracy: 0.9791\n",
      "Epoch 51/100\n",
      "150/150 [==============================] - 0s 2ms/step - loss: 0.0711 - accuracy: 0.9734 - val_loss: 0.0557 - val_accuracy: 0.9824\n",
      "Epoch 52/100\n",
      "150/150 [==============================] - 0s 2ms/step - loss: 0.0716 - accuracy: 0.9726 - val_loss: 0.0580 - val_accuracy: 0.9808\n",
      "Epoch 53/100\n",
      "150/150 [==============================] - 0s 2ms/step - loss: 0.0702 - accuracy: 0.9730 - val_loss: 0.0649 - val_accuracy: 0.9766\n",
      "Epoch 54/100\n",
      "150/150 [==============================] - 0s 2ms/step - loss: 0.0716 - accuracy: 0.9728 - val_loss: 0.0634 - val_accuracy: 0.9774\n",
      "Epoch 55/100\n",
      "150/150 [==============================] - 0s 2ms/step - loss: 0.0707 - accuracy: 0.9743 - val_loss: 0.0573 - val_accuracy: 0.9808\n",
      "Epoch 56/100\n",
      "150/150 [==============================] - 0s 2ms/step - loss: 0.0703 - accuracy: 0.9743 - val_loss: 0.0641 - val_accuracy: 0.9774\n",
      "Epoch 57/100\n",
      "150/150 [==============================] - 0s 2ms/step - loss: 0.0704 - accuracy: 0.9738 - val_loss: 0.0544 - val_accuracy: 0.9808\n",
      "Epoch 58/100\n",
      "150/150 [==============================] - 0s 2ms/step - loss: 0.0705 - accuracy: 0.9732 - val_loss: 0.0553 - val_accuracy: 0.9824\n",
      "Epoch 59/100\n",
      "150/150 [==============================] - 0s 2ms/step - loss: 0.0692 - accuracy: 0.9751 - val_loss: 0.0565 - val_accuracy: 0.9808\n",
      "Epoch 60/100\n",
      "150/150 [==============================] - 0s 2ms/step - loss: 0.0694 - accuracy: 0.9724 - val_loss: 0.0539 - val_accuracy: 0.9824\n",
      "Epoch 61/100\n",
      "150/150 [==============================] - 0s 2ms/step - loss: 0.0696 - accuracy: 0.9738 - val_loss: 0.0549 - val_accuracy: 0.9824\n",
      "Epoch 62/100\n",
      "150/150 [==============================] - 0s 2ms/step - loss: 0.0688 - accuracy: 0.9732 - val_loss: 0.0562 - val_accuracy: 0.9808\n",
      "Epoch 63/100\n",
      "150/150 [==============================] - 0s 2ms/step - loss: 0.0684 - accuracy: 0.9755 - val_loss: 0.0542 - val_accuracy: 0.9824\n",
      "Epoch 64/100\n",
      "150/150 [==============================] - 0s 2ms/step - loss: 0.0695 - accuracy: 0.9734 - val_loss: 0.0567 - val_accuracy: 0.9799\n",
      "Epoch 65/100\n",
      "150/150 [==============================] - 0s 2ms/step - loss: 0.0685 - accuracy: 0.9751 - val_loss: 0.0538 - val_accuracy: 0.9824\n",
      "Epoch 66/100\n",
      "150/150 [==============================] - 0s 2ms/step - loss: 0.0679 - accuracy: 0.9763 - val_loss: 0.0595 - val_accuracy: 0.9799\n",
      "Epoch 67/100\n",
      "150/150 [==============================] - 0s 2ms/step - loss: 0.0671 - accuracy: 0.9751 - val_loss: 0.0550 - val_accuracy: 0.9816\n",
      "Epoch 68/100\n",
      "150/150 [==============================] - 0s 2ms/step - loss: 0.0685 - accuracy: 0.9747 - val_loss: 0.0530 - val_accuracy: 0.9808\n",
      "Epoch 69/100\n",
      "150/150 [==============================] - 0s 2ms/step - loss: 0.0674 - accuracy: 0.9732 - val_loss: 0.0524 - val_accuracy: 0.9824\n",
      "Epoch 70/100\n",
      "150/150 [==============================] - 0s 2ms/step - loss: 0.0685 - accuracy: 0.9751 - val_loss: 0.0586 - val_accuracy: 0.9799\n",
      "Epoch 71/100\n",
      "150/150 [==============================] - 0s 2ms/step - loss: 0.0669 - accuracy: 0.9768 - val_loss: 0.0536 - val_accuracy: 0.9833\n",
      "Epoch 72/100\n",
      "150/150 [==============================] - 0s 2ms/step - loss: 0.0675 - accuracy: 0.9757 - val_loss: 0.0519 - val_accuracy: 0.9824\n",
      "Epoch 73/100\n",
      "150/150 [==============================] - 0s 2ms/step - loss: 0.0668 - accuracy: 0.9749 - val_loss: 0.0522 - val_accuracy: 0.9824\n",
      "Epoch 74/100\n",
      "150/150 [==============================] - 0s 2ms/step - loss: 0.0668 - accuracy: 0.9766 - val_loss: 0.0527 - val_accuracy: 0.9833\n",
      "Epoch 75/100\n",
      "150/150 [==============================] - 0s 2ms/step - loss: 0.0668 - accuracy: 0.9749 - val_loss: 0.0517 - val_accuracy: 0.9833\n",
      "Epoch 76/100\n",
      "150/150 [==============================] - 0s 2ms/step - loss: 0.0661 - accuracy: 0.9759 - val_loss: 0.0639 - val_accuracy: 0.9766\n",
      "Epoch 77/100\n",
      "150/150 [==============================] - 0s 2ms/step - loss: 0.0667 - accuracy: 0.9747 - val_loss: 0.0515 - val_accuracy: 0.9833\n",
      "Epoch 78/100\n",
      "150/150 [==============================] - 0s 2ms/step - loss: 0.0657 - accuracy: 0.9766 - val_loss: 0.0578 - val_accuracy: 0.9808\n",
      "Epoch 79/100\n",
      "150/150 [==============================] - 0s 2ms/step - loss: 0.0662 - accuracy: 0.9747 - val_loss: 0.0596 - val_accuracy: 0.9791\n",
      "Epoch 80/100\n",
      "150/150 [==============================] - 0s 2ms/step - loss: 0.0660 - accuracy: 0.9753 - val_loss: 0.0508 - val_accuracy: 0.9841\n",
      "Epoch 81/100\n",
      "150/150 [==============================] - 0s 2ms/step - loss: 0.0651 - accuracy: 0.9751 - val_loss: 0.0519 - val_accuracy: 0.9833\n",
      "Epoch 82/100\n",
      "150/150 [==============================] - 0s 2ms/step - loss: 0.0658 - accuracy: 0.9755 - val_loss: 0.0525 - val_accuracy: 0.9833\n",
      "Epoch 83/100\n",
      "150/150 [==============================] - 0s 2ms/step - loss: 0.0645 - accuracy: 0.9768 - val_loss: 0.0533 - val_accuracy: 0.9808\n",
      "Epoch 84/100\n",
      "150/150 [==============================] - 0s 2ms/step - loss: 0.0636 - accuracy: 0.9759 - val_loss: 0.0585 - val_accuracy: 0.9799\n",
      "Epoch 85/100\n",
      "150/150 [==============================] - 0s 2ms/step - loss: 0.0651 - accuracy: 0.9740 - val_loss: 0.0617 - val_accuracy: 0.9774\n",
      "Epoch 86/100\n",
      "150/150 [==============================] - 0s 2ms/step - loss: 0.0642 - accuracy: 0.9751 - val_loss: 0.0521 - val_accuracy: 0.9833\n",
      "Epoch 87/100\n",
      "150/150 [==============================] - 0s 2ms/step - loss: 0.0648 - accuracy: 0.9755 - val_loss: 0.0532 - val_accuracy: 0.9816\n",
      "Epoch 88/100\n",
      "150/150 [==============================] - 0s 2ms/step - loss: 0.0643 - accuracy: 0.9759 - val_loss: 0.0525 - val_accuracy: 0.9808\n",
      "Epoch 89/100\n",
      "150/150 [==============================] - 0s 2ms/step - loss: 0.0642 - accuracy: 0.9763 - val_loss: 0.0497 - val_accuracy: 0.9841\n",
      "Epoch 90/100\n",
      "150/150 [==============================] - 0s 2ms/step - loss: 0.0644 - accuracy: 0.9774 - val_loss: 0.0503 - val_accuracy: 0.9841\n",
      "Epoch 91/100\n",
      "150/150 [==============================] - 0s 2ms/step - loss: 0.0639 - accuracy: 0.9770 - val_loss: 0.0496 - val_accuracy: 0.9849\n",
      "Epoch 92/100\n",
      "150/150 [==============================] - 0s 2ms/step - loss: 0.0650 - accuracy: 0.9751 - val_loss: 0.0500 - val_accuracy: 0.9841\n",
      "Epoch 93/100\n",
      "150/150 [==============================] - 0s 2ms/step - loss: 0.0641 - accuracy: 0.9753 - val_loss: 0.0528 - val_accuracy: 0.9816\n",
      "Epoch 94/100\n",
      "150/150 [==============================] - 0s 2ms/step - loss: 0.0634 - accuracy: 0.9763 - val_loss: 0.0523 - val_accuracy: 0.9816\n",
      "Epoch 95/100\n",
      "150/150 [==============================] - 0s 2ms/step - loss: 0.0632 - accuracy: 0.9772 - val_loss: 0.0493 - val_accuracy: 0.9841\n",
      "Epoch 96/100\n",
      "150/150 [==============================] - 0s 2ms/step - loss: 0.0629 - accuracy: 0.9759 - val_loss: 0.0507 - val_accuracy: 0.9833\n",
      "Epoch 97/100\n",
      "150/150 [==============================] - 0s 2ms/step - loss: 0.0630 - accuracy: 0.9768 - val_loss: 0.0524 - val_accuracy: 0.9816\n",
      "Epoch 98/100\n",
      "150/150 [==============================] - 0s 2ms/step - loss: 0.0626 - accuracy: 0.9774 - val_loss: 0.0548 - val_accuracy: 0.9808\n",
      "Epoch 99/100\n",
      "150/150 [==============================] - 0s 2ms/step - loss: 0.0636 - accuracy: 0.9757 - val_loss: 0.0508 - val_accuracy: 0.9841\n",
      "Epoch 100/100\n",
      "150/150 [==============================] - 0s 2ms/step - loss: 0.0618 - accuracy: 0.9772 - val_loss: 0.0482 - val_accuracy: 0.9841\n"
     ]
    }
   ],
   "source": [
    "hist = model.fit(train_data , train_labels , epochs=100, batch_size=32, validation_split=0.2)\n",
    "#, batch_size=1024"
   ]
  },
  {
   "cell_type": "markdown",
   "id": "6dd4aab9-b129-4118-b17d-3f44765320ca",
   "metadata": {},
   "source": [
    "## Test Result"
   ]
  },
  {
   "cell_type": "code",
   "execution_count": 20,
   "id": "143c6194-8a9d-4946-b7b6-4127423b69d0",
   "metadata": {},
   "outputs": [
    {
     "data": {
      "image/png": "[encoded data removed]",
      "text/plain": [
       "<Figure size 640x480 with 2 Axes>"
      ]
     },
     "metadata": {},
     "output_type": "display_data"
    },
    {
     "name": "stdout",
     "output_type": "stream",
     "text": [
      "ROOT MEAN SQUARE ERROR = 0.13443321448446624\n",
      "Accuracy = 0.9819277108433735\n",
      "Precision = 0.985207100591716\n",
      "Recall = 0.9794117647058823\n"
     ]
    }
   ],
   "source": [
    "from sklearn.metrics import confusion_matrix, classification_report\n",
    "\n",
    "Dnn_model = model  # pass the model in order to be used latter\n",
    "\n",
    "def CF_Matrix_show(model, test_data, test_labels):\n",
    "    prediction = model.predict(test_data,verbose = 0)\n",
    "    #print(test_data[0:2])\n",
    "    #print(prediction)\n",
    "    y_pred = np.argmax(prediction,axis = -1)\n",
    "    \n",
    "    # Confusion matrix heatmap\n",
    "    conf_matrix = confusion_matrix(test_labels, y_pred)\n",
    "    ax = sns.heatmap(conf_matrix, annot=True, fmt=\"d\")\n",
    "    # The top and bottom of heatmap gets trimmed off so to prevent that we set ylim\n",
    "    bottom, top = ax.get_ylim()\n",
    "    ax.set_ylim(bottom + 0.5, top - 0.5)\n",
    "    plt.title(\"Confusion matrix\")\n",
    "    plt.show()\n",
    "    pred = y_pred.astype(int)\n",
    "    \n",
    "    # Calculating root mean square error\n",
    "    rmse = np.sqrt(np.mean(((pred - test_labels) ** 2)))\n",
    "    print(\"ROOT MEAN SQUARE ERROR = {}\".format(rmse))\n",
    "    print(\"Accuracy = {}\".format(accuracy_score(test_labels,pred)))\n",
    "    print(\"Precision = {}\".format(precision_score(test_labels,pred)))\n",
    "    print(\"Recall = {}\".format(recall_score(test_labels,pred)))\n",
    "\n",
    "\n",
    "CF_Matrix_show(Dnn_model, test_data, test_labels)"
   ]
  },
  {
   "cell_type": "markdown",
   "id": "944566c2-d0ca-4b01-8288-16759b85658f",
   "metadata": {},
   "source": [
    "# QAT for keeping accuracy"
   ]
  },
  {
   "cell_type": "code",
   "execution_count": 9,
   "id": "8e0ac866-76c3-457b-924f-fff4e8999fde",
   "metadata": {},
   "outputs": [],
   "source": [
    "import tensorflow_model_optimization as tfmot"
   ]
  },
  {
   "cell_type": "code",
   "execution_count": 21,
   "id": "28cc7dfe-b4ff-4d34-9872-e97b771add60",
   "metadata": {},
   "outputs": [
    {
     "name": "stdout",
     "output_type": "stream",
     "text": [
      "Model: \"sequential_1\"\n",
      "_________________________________________________________________\n",
      " Layer (type)                Output Shape              Param #   \n",
      "=================================================================\n",
      " quantize_layer_2 (QuantizeL  (None, 16)               3         \n",
      " ayer)                                                           \n",
      "                                                                 \n",
      " quant_dense_5 (QuantizeWrap  (None, 4)                69        \n",
      " perV2)                                                          \n",
      "                                                                 \n",
      " quant_activation_4 (Quantiz  (None, 4)                3         \n",
      " eWrapperV2)                                                     \n",
      "                                                                 \n",
      " quant_dense_6 (QuantizeWrap  (None, 8)                41        \n",
      " perV2)                                                          \n",
      "                                                                 \n",
      " quant_activation_5 (Quantiz  (None, 8)                3         \n",
      " eWrapperV2)                                                     \n",
      "                                                                 \n",
      " quant_dense_7 (QuantizeWrap  (None, 16)               145       \n",
      " perV2)                                                          \n",
      "                                                                 \n",
      " quant_activation_6 (Quantiz  (None, 16)               3         \n",
      " eWrapperV2)                                                     \n",
      "                                                                 \n",
      " quant_dense_8 (QuantizeWrap  (None, 8)                137       \n",
      " perV2)                                                          \n",
      "                                                                 \n",
      " quant_activation_7 (Quantiz  (None, 8)                3         \n",
      " eWrapperV2)                                                     \n",
      "                                                                 \n",
      " quant_dense_9 (QuantizeWrap  (None, 2)                23        \n",
      " perV2)                                                          \n",
      "                                                                 \n",
      "=================================================================\n",
      "Total params: 430\n",
      "Trainable params: 406\n",
      "Non-trainable params: 24\n",
      "_________________________________________________________________\n"
     ]
    }
   ],
   "source": [
    "quant_aware_model = tfmot.quantization.keras.quantize_model(Dnn_model)\n",
    "optimizer = Adam(learning_rate=0.0001)\n",
    "quant_aware_model.compile(optimizer=optimizer, loss='sparse_categorical_crossentropy', metrics=['accuracy'])\n",
    "quant_aware_model.summary()"
   ]
  },
  {
   "cell_type": "code",
   "execution_count": 22,
   "id": "d258c987-3f70-41e4-958f-56d88036d155",
   "metadata": {},
   "outputs": [
    {
     "name": "stdout",
     "output_type": "stream",
     "text": [
      "Epoch 1/5\n",
      "150/150 [==============================] - 1s 5ms/step - loss: 0.7813 - accuracy: 0.7114 - val_loss: 0.1930 - val_accuracy: 0.9741\n",
      "Epoch 2/5\n",
      "150/150 [==============================] - 1s 4ms/step - loss: 0.1797 - accuracy: 0.9694 - val_loss: 0.1460 - val_accuracy: 0.9724\n",
      "Epoch 3/5\n",
      "150/150 [==============================] - 1s 4ms/step - loss: 0.1371 - accuracy: 0.9648 - val_loss: 0.1060 - val_accuracy: 0.9715\n",
      "Epoch 4/5\n",
      "150/150 [==============================] - 1s 4ms/step - loss: 0.1089 - accuracy: 0.9661 - val_loss: 0.0879 - val_accuracy: 0.9707\n",
      "Epoch 5/5\n",
      "150/150 [==============================] - 1s 4ms/step - loss: 0.0923 - accuracy: 0.9676 - val_loss: 0.0734 - val_accuracy: 0.9774\n"
     ]
    }
   ],
   "source": [
    "hist = quant_aware_model.fit(train_data , train_labels , epochs=5, batch_size=32, validation_split=0.2)"
   ]
  },
  {
   "cell_type": "code",
   "execution_count": 23,
   "id": "42ad34f1-6a21-4f49-96cc-cccd63581628",
   "metadata": {},
   "outputs": [
    {
     "data": {
      "image/png": "[encoded data removed]",
      "text/plain": [
       "<Figure size 640x480 with 2 Axes>"
      ]
     },
     "metadata": {},
     "output_type": "display_data"
    },
    {
     "name": "stdout",
     "output_type": "stream",
     "text": [
      "ROOT MEAN SQUARE ERROR = 0.1552301051412666\n",
      "Accuracy = 0.9759036144578314\n",
      "Precision = 0.9792899408284024\n",
      "Recall = 0.9735294117647059\n"
     ]
    }
   ],
   "source": [
    "CF_Matrix_show(quant_aware_model, test_data, test_labels)"
   ]
  },
  {
   "cell_type": "markdown",
   "id": "cca61f16-53d9-42c6-8b80-ebabef2a29a3",
   "metadata": {},
   "source": [
    "# TensorFlow Lite Conversion"
   ]
  },
  {
   "cell_type": "code",
   "execution_count": 1,
   "id": "b04b1454-7715-408a-9161-bb100a03c873",
   "metadata": {},
   "outputs": [
    {
     "ename": "NameError",
     "evalue": "name 'quant_aware_model' is not defined",
     "output_type": "error",
     "traceback": [
      "\u001b[1;31m---------------------------------------------------------------------------\u001b[0m",
      "\u001b[1;31mNameError\u001b[0m                                 Traceback (most recent call last)",
      "Cell \u001b[1;32mIn[1], line 2\u001b[0m\n\u001b[0;32m      1\u001b[0m \u001b[38;5;66;03m# If we're happy with the performance, save the model\u001b[39;00m\n\u001b[1;32m----> 2\u001b[0m ori_model \u001b[38;5;241m=\u001b[39m \u001b[43mquant_aware_model\u001b[49m\n\u001b[0;32m      3\u001b[0m keras_model_name \u001b[38;5;241m=\u001b[39m \u001b[38;5;124m'\u001b[39m\u001b[38;5;124mdnn\u001b[39m\u001b[38;5;124m'\u001b[39m\n\u001b[0;32m      5\u001b[0m tf\u001b[38;5;241m.\u001b[39msaved_model\u001b[38;5;241m.\u001b[39msave(ori_model, keras_model_name)\n",
      "\u001b[1;31mNameError\u001b[0m: name 'quant_aware_model' is not defined"
     ]
    }
   ],
   "source": [
    "# If we're happy with the performance, save the model\n",
    "ori_model = quant_aware_model\n",
    "keras_model_name = 'dnn'\n",
    "\n",
    "tf.saved_model.save(ori_model, keras_model_name)"
   ]
  },
  {
   "cell_type": "code",
   "execution_count": 25,
   "id": "00b2597b-9fed-47a1-8dd2-952cf2cab2b6",
   "metadata": {},
   "outputs": [
    {
     "name": "stderr",
     "output_type": "stream",
     "text": [
      "WARNING:absl:Found untraced functions such as dense_5_layer_call_fn, dense_5_layer_call_and_return_conditional_losses, activation_4_layer_call_fn, activation_4_layer_call_and_return_conditional_losses, dense_6_layer_call_fn while saving (showing 5 of 18). These functions will not be directly callable after loading.\n"
     ]
    },
    {
     "name": "stdout",
     "output_type": "stream",
     "text": [
      "INFO:tensorflow:Assets written to: C:\\Users\\USER\\AppData\\Local\\Temp\\tmpt6nc7lx1\\assets\n"
     ]
    },
    {
     "name": "stderr",
     "output_type": "stream",
     "text": [
      "INFO:tensorflow:Assets written to: C:\\Users\\USER\\AppData\\Local\\Temp\\tmpt6nc7lx1\\assets\n"
     ]
    },
    {
     "data": {
      "text/plain": [
       "11496"
      ]
     },
     "execution_count": 25,
     "metadata": {},
     "output_type": "execute_result"
    }
   ],
   "source": [
    "# Convert Keras model to a tflite model\n",
    "converter = tf.lite.TFLiteConverter.from_keras_model(ori_model)\n",
    "tflite_model = converter.convert()\n",
    "open(os.path.join(keras_model_name,(keras_model_name + '.tflite')), 'wb').write(tflite_model)"
   ]
  },
  {
   "cell_type": "code",
   "execution_count": 31,
   "id": "3a8b9209-2c45-4b7d-abd7-748540fa7cb9",
   "metadata": {},
   "outputs": [],
   "source": [
    "def tflite_to_tflu(models_path, c_model_name, keras_model_name, threshold, maxV, minV):\n",
    "    \n",
    "    tflite_name = os.path.join(keras_model_name,(keras_model_name + '.tflite'))\n",
    "    my_f_name = (os.path.join(models_path, c_model_name) + '.cc')\n",
    "    ! python tflite_to_tflu_para.py --tflite_path $tflite_name --output_path $my_f_name --window_size_sample $window_len --max_val_train $maxV --min_val_train $minV --threshold_val $threshold\n",
    "\n",
    "models_path = 'model'\n",
    "c_model_name = r'Gearbox_fault_' + keras_model_name    \n",
    "tflite_to_tflu(models_path, c_model_name, keras_model_name, 0, max_val.numpy(), min_val.numpy())    "
   ]
  },
  {
   "cell_type": "markdown",
   "id": "9ded5c71-6383-4336-940b-da210393fab0",
   "metadata": {},
   "source": [
    "# Convert to int8 tflite and testing"
   ]
  },
  {
   "cell_type": "code",
   "execution_count": 32,
   "id": "9db7e770-4dd7-4cae-8383-5422c04cd31c",
   "metadata": {},
   "outputs": [
    {
     "name": "stderr",
     "output_type": "stream",
     "text": [
      "WARNING:absl:Found untraced functions such as dense_5_layer_call_fn, dense_5_layer_call_and_return_conditional_losses, activation_4_layer_call_fn, activation_4_layer_call_and_return_conditional_losses, dense_6_layer_call_fn while saving (showing 5 of 18). These functions will not be directly callable after loading.\n"
     ]
    },
    {
     "name": "stdout",
     "output_type": "stream",
     "text": [
      "INFO:tensorflow:Assets written to: C:\\Users\\USER\\AppData\\Local\\Temp\\tmpuhjgufxd\\assets\n"
     ]
    },
    {
     "name": "stderr",
     "output_type": "stream",
     "text": [
      "INFO:tensorflow:Assets written to: C:\\Users\\USER\\AppData\\Local\\Temp\\tmpuhjgufxd\\assets\n",
      "C:\\ProgramData\\miniforge3\\envs\\NuEdgeWise_env\\lib\\site-packages\\tensorflow\\lite\\python\\convert.py:766: UserWarning: Statistics for quantized inputs were expected, but not specified; continuing anyway.\n",
      "  warnings.warn(\"Statistics for quantized inputs were expected, but not \"\n"
     ]
    },
    {
     "data": {
      "text/plain": [
       "4320"
      ]
     },
     "execution_count": 32,
     "metadata": {},
     "output_type": "execute_result"
    }
   ],
   "source": [
    "# Convert the model to the TensorFlow Lite format with quantization\n",
    "NUM_REP_DATA_SAMPLES = 300\n",
    "def _rep_dataset():\n",
    "    \"\"\"Generator function to produce representative dataset.\"\"\"\n",
    "    for idx in range(len(train_data)):\n",
    "        if idx >= NUM_REP_DATA_SAMPLES:\n",
    "            break\n",
    "        yield [tf.dtypes.cast(train_data[idx], tf.float32)]\n",
    "\n",
    "converter = tf.lite.TFLiteConverter.from_keras_model(ori_model)\n",
    "converter.optimizations = [tf.lite.Optimize.DEFAULT]\n",
    "converter.target_spec.supported_ops = [tf.lite.OpsSet.TFLITE_BUILTINS_INT8, tf.lite.OpsSet.TFLITE_BUILTINS]\n",
    "converter.representative_dataset = _rep_dataset\n",
    "converter.inference_input_type = tf.int8  # or tf.uint8\n",
    "converter.inference_output_type = tf.int8  # or tf.uint8\n",
    "tflite_model = converter.convert()\n",
    "open(os.path.join(keras_model_name,(keras_model_name + '_quantized.tflite')), 'wb').write(tflite_model)"
   ]
  },
  {
   "cell_type": "code",
   "execution_count": 33,
   "id": "7b4df85b-9c2c-4730-9ba5-857dd5b78194",
   "metadata": {},
   "outputs": [],
   "source": [
    "def tflite_inference(input_data, tflite_path):\n",
    "    \"\"\"Call forwards pass of TFLite file and returns the result.\n",
    "\n",
    "    Args:\n",
    "        input_data: Input data to use on forward pass.\n",
    "        tflite_path: Path to TFLite file to run.\n",
    "\n",
    "    Returns:\n",
    "        Output from inference.\n",
    "    \"\"\"\n",
    "    interpreter = tf.lite.Interpreter(model_path=tflite_path)\n",
    "    interpreter.allocate_tensors()\n",
    "\n",
    "    input_details = interpreter.get_input_details()\n",
    "    output_details = interpreter.get_output_details()\n",
    "\n",
    "    input_dtype = input_details[0][\"dtype\"]\n",
    "    output_dtype = output_details[0][\"dtype\"]\n",
    "\n",
    "    # Check if the input/output type is quantized,\n",
    "    # set scale and zero-point accordingly\n",
    "    if input_dtype == np.int8:\n",
    "        input_scale, input_zero_point = input_details[0][\"quantization\"]\n",
    "    else:\n",
    "        input_scale, input_zero_point = 1, 0\n",
    "\n",
    "    input_data = input_data / input_scale + input_zero_point\n",
    "    input_data = np.round(input_data) if input_dtype == np.int8 else input_data\n",
    "\n",
    "    if output_dtype == np.int8:\n",
    "        output_scale, output_zero_point = output_details[0][\"quantization\"]\n",
    "    else:\n",
    "        output_scale, output_zero_point = 1, 0\n",
    "\n",
    "    interpreter.set_tensor(input_details[0]['index'], tf.cast(input_data, input_dtype))\n",
    "    interpreter.invoke()\n",
    "\n",
    "    output_data = interpreter.get_tensor(output_details[0]['index'])\n",
    "\n",
    "    output_data = output_scale * (output_data.astype(np.float32) - output_zero_point)\n",
    "\n",
    "    return output_data\n",
    "\n",
    "def calculate_accuracy(predicted_indices, expected_indices):\n",
    "    \"\"\"Calculates and returns accuracy.\n",
    "\n",
    "    Args:\n",
    "        predicted_indices: List of predicted integer indices.\n",
    "        expected_indices: List of expected integer indices.\n",
    "\n",
    "    Returns:\n",
    "        Accuracy value between 0 and 1.\n",
    "    \"\"\"\n",
    "    correct_prediction = tf.equal(predicted_indices, expected_indices)\n",
    "    accuracy = tf.reduce_mean(tf.cast(correct_prediction, tf.float32))\n",
    "    return accuracy"
   ]
  },
  {
   "cell_type": "code",
   "execution_count": 34,
   "id": "33e03677-8fa6-438a-aa6a-1d2ab2f07a6f",
   "metadata": {},
   "outputs": [
    {
     "name": "stdout",
     "output_type": "stream",
     "text": [
      "[[312  12]\n",
      " [  5 335]]\n",
      "Test accuracy = 97.44%\n"
     ]
    }
   ],
   "source": [
    "tflite_path = os.path.join(keras_model_name,(keras_model_name + '_quantized.tflite'))\n",
    "\n",
    "predicted_indices = []  \n",
    "\n",
    "for data, label in zip(test_data, test_labels):  # pylint: disable=unused-variable\n",
    "    prediction = tflite_inference(tf.expand_dims(data, axis=0), tflite_path)\n",
    "    predicted_indices.append(np.squeeze(tf.argmax(prediction, axis=1)))\n",
    "\n",
    "test_accuracy = calculate_accuracy(predicted_indices, test_labels)\n",
    "confusion_matrix = tf.math.confusion_matrix(labels=tf.constant(test_labels), \n",
    "                                            predictions=predicted_indices,\n",
    "                                            num_classes = 2)\n",
    "print(confusion_matrix.numpy())\n",
    "print(f'Test accuracy = {test_accuracy * 100:.2f}%')"
   ]
  },
  {
   "cell_type": "code",
   "execution_count": null,
   "id": "5996be03-53ea-48dc-9692-1082d4ae499a",
   "metadata": {},
   "outputs": [],
   "source": []
  }
 ],
 "metadata": {
  "kernelspec": {
   "display_name": "Python 3 (ipykernel)",
   "language": "python",
   "name": "python3"
  },
  "language_info": {
   "codemirror_mode": {
    "name": "ipython",
    "version": 3
   },
   "file_extension": ".py",
   "mimetype": "text/x-python",
   "name": "python",
   "nbconvert_exporter": "python",
   "pygments_lexer": "ipython3",
   "version": "3.8.13"
  },
  "toc-autonumbering": true
 },
 "nbformat": 4,
 "nbformat_minor": 5
}
